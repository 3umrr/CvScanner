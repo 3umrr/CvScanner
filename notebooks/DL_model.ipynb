{
 "cells": [
  {
   "cell_type": "code",
   "execution_count": 1,
   "id": "962423e2",
   "metadata": {},
   "outputs": [
    {
     "name": "stderr",
     "output_type": "stream",
     "text": [
      "\u001b[32m2025-08-29 18:34:34.322\u001b[0m | \u001b[1mINFO    \u001b[0m | \u001b[36mcvscanner.config\u001b[0m:\u001b[36m<module>\u001b[0m:\u001b[36m11\u001b[0m - \u001b[1mPROJ_ROOT path is: /home/jax/CvScanner\u001b[0m\n",
      "/home/jax/.local/lib/python3.12/site-packages/tqdm/auto.py:21: TqdmWarning: IProgress not found. Please update jupyter and ipywidgets. See https://ipywidgets.readthedocs.io/en/stable/user_install.html\n",
      "  from .autonotebook import tqdm as notebook_tqdm\n"
     ]
    }
   ],
   "source": [
    "import sys\n",
    "import os\n",
    "\n",
    "# Get the parent directory (project root)\n",
    "project_root = os.path.abspath('..')\n",
    "sys.path.append(project_root)\n",
    "\n",
    "from cvscanner.modeling.DeepLearningModel import *"
   ]
  },
  {
   "cell_type": "code",
   "execution_count": 2,
   "id": "1049a179",
   "metadata": {},
   "outputs": [
    {
     "name": "stdout",
     "output_type": "stream",
     "text": [
      "Training deep learning model...\n",
      "Found 166 resumes across 25 categories\n",
      "Categories: ['Advocate' 'Arts' 'Automation Testing' 'Blockchain' 'Business Analyst'\n",
      " 'Civil Engineer' 'Data Science' 'Database' 'DevOps Engineer'\n",
      " 'DotNet Developer' 'ETL Developer' 'Electrical Engineering' 'HR' 'Hadoop'\n",
      " 'Health and fitness' 'Java Developer' 'Mechanical Engineer'\n",
      " 'Network Security Engineer' 'Operations Manager' 'PMO' 'Python Developer'\n",
      " 'SAP Developer' 'Sales' 'Testing' 'Web Designing']\n"
     ]
    },
    {
     "name": "stderr",
     "output_type": "stream",
     "text": [
      "2025-08-29 18:34:43.119626: E external/local_xla/xla/stream_executor/cuda/cuda_fft.cc:467] Unable to register cuFFT factory: Attempting to register factory for plugin cuFFT when one has already been registered\n",
      "WARNING: All log messages before absl::InitializeLog() is called are written to STDERR\n",
      "E0000 00:00:1756481683.351707   37775 cuda_dnn.cc:8579] Unable to register cuDNN factory: Attempting to register factory for plugin cuDNN when one has already been registered\n",
      "E0000 00:00:1756481683.405367   37775 cuda_blas.cc:1407] Unable to register cuBLAS factory: Attempting to register factory for plugin cuBLAS when one has already been registered\n",
      "W0000 00:00:1756481683.789453   37775 computation_placer.cc:177] computation placer already registered. Please check linkage and avoid linking the same target more than once.\n",
      "W0000 00:00:1756481683.789523   37775 computation_placer.cc:177] computation placer already registered. Please check linkage and avoid linking the same target more than once.\n",
      "W0000 00:00:1756481683.789532   37775 computation_placer.cc:177] computation placer already registered. Please check linkage and avoid linking the same target more than once.\n",
      "W0000 00:00:1756481683.789539   37775 computation_placer.cc:177] computation placer already registered. Please check linkage and avoid linking the same target more than once.\n",
      "2025-08-29 18:34:43.866847: I tensorflow/core/platform/cpu_feature_guard.cc:210] This TensorFlow binary is optimized to use available CPU instructions in performance-critical operations.\n",
      "To enable the following instructions: AVX2 FMA, in other operations, rebuild TensorFlow with the appropriate compiler flags.\n"
     ]
    },
    {
     "name": "stdout",
     "output_type": "stream",
     "text": [
      "Using device: cpu\n",
      "Epoch 1, Batch 0, Loss: 3.2007\n",
      "Epoch 1, Batch 10, Loss: 3.2044\n",
      "Epoch 1/5, Train Loss: 3.2180, Val Loss: 3.2022, Accuracy: 5.88%\n",
      "Saved new best model with accuracy: 5.88%\n",
      "Epoch 2, Batch 0, Loss: 3.2198\n",
      "Epoch 2, Batch 10, Loss: 3.1728\n",
      "Epoch 2/5, Train Loss: 3.2098, Val Loss: 3.1957, Accuracy: 8.82%\n",
      "Saved new best model with accuracy: 8.82%\n",
      "Epoch 3, Batch 0, Loss: 3.2166\n",
      "Epoch 3, Batch 10, Loss: 3.1924\n",
      "Epoch 3/5, Train Loss: 3.1913, Val Loss: 3.1844, Accuracy: 14.71%\n",
      "Saved new best model with accuracy: 14.71%\n",
      "Epoch 4, Batch 0, Loss: 3.1457\n",
      "Epoch 4, Batch 10, Loss: 3.1660\n",
      "Epoch 4/5, Train Loss: 3.1791, Val Loss: 3.1745, Accuracy: 17.65%\n",
      "Saved new best model with accuracy: 17.65%\n",
      "Epoch 5, Batch 0, Loss: 3.2285\n",
      "Epoch 5, Batch 10, Loss: 3.1834\n",
      "Epoch 5/5, Train Loss: 3.1544, Val Loss: 3.1594, Accuracy: 14.71%\n",
      "Training complete! Best accuracy: 17.65%\n",
      "\n",
      "Predicted category: Advocate (confidence: 4.64%)\n",
      "\n",
      "Top 5 predictions:\n",
      "  Advocate: 4.64%\n",
      "  HR: 4.55%\n",
      "  Hadoop: 4.51%\n",
      "  DevOps Engineer: 4.33%\n",
      "  SAP Developer: 4.28%\n"
     ]
    }
   ],
   "source": [
    "\n",
    "print(\"Training deep learning model...\")\n",
    "model, label_encoder, tokenizer = train_deep_learning_model(\n",
    "    json_file_path='/home/jax/CvScanner/models/grouping.json',\n",
    "    model_name='bert-base-uncased',\n",
    "    num_epochs=5,\n",
    "    batch_size=8,\n",
    "    learning_rate=2e-5\n",
    ")\n",
    "\n",
    "# Example prediction\n",
    "test_cv = \"\"\"\n",
    "Experienced software developer with 5+ years in Python development.\n",
    "Strong skills in Django, Flask, and machine learning. Proficient in\n",
    "database design and cloud technologies.\n",
    "\"\"\"\n",
    "\n",
    "predicted_category, confidence, top_predictions = predict_cv_category(\n",
    "    test_cv, model, label_encoder, tokenizer\n",
    ")\n",
    "\n",
    "print(f\"\\nPredicted category: {predicted_category} (confidence: {confidence:.2%})\")\n",
    "print(\"\\nTop 5 predictions:\")\n",
    "for category, conf in top_predictions:\n",
    "    print(f\"  {category}: {conf:.2%}\")"
   ]
  }
 ],
 "metadata": {
  "kernelspec": {
   "display_name": "Python 3",
   "language": "python",
   "name": "python3"
  },
  "language_info": {
   "codemirror_mode": {
    "name": "ipython",
    "version": 3
   },
   "file_extension": ".py",
   "mimetype": "text/x-python",
   "name": "python",
   "nbconvert_exporter": "python",
   "pygments_lexer": "ipython3",
   "version": "3.12.3"
  }
 },
 "nbformat": 4,
 "nbformat_minor": 5
}
