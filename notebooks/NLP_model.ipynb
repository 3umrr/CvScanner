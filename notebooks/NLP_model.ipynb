{
 "cells": [
  {
   "cell_type": "code",
   "execution_count": 1,
   "id": "c3f82334",
   "metadata": {},
   "outputs": [
    {
     "name": "stderr",
     "output_type": "stream",
     "text": [
      "\u001b[32m2025-08-29 19:33:04.479\u001b[0m | \u001b[1mINFO    \u001b[0m | \u001b[36mcvscanner.config\u001b[0m:\u001b[36m<module>\u001b[0m:\u001b[36m11\u001b[0m - \u001b[1mPROJ_ROOT path is: /home/jax/CvScanner\u001b[0m\n"
     ]
    },
    {
     "data": {
      "text/html": [
       "        <script type=\"text/javascript\">\n",
       "        window.PlotlyConfig = {MathJaxConfig: 'local'};\n",
       "        if (window.MathJax && window.MathJax.Hub && window.MathJax.Hub.Config) {window.MathJax.Hub.Config({SVG: {font: \"STIX-Web\"}});}\n",
       "        </script>\n",
       "        <script type=\"module\">import \"https://cdn.plot.ly/plotly-3.1.0.min\"</script>\n",
       "        "
      ]
     },
     "metadata": {},
     "output_type": "display_data"
    }
   ],
   "source": [
    "import sys\n",
    "import os\n",
    "\n",
    "project_root = os.path.abspath('..')\n",
    "if project_root not in sys.path:\n",
    "    sys.path.append(project_root)\n",
    "\n",
    "from cvscanner.modeling.NLP_methods import *"
   ]
  },
  {
   "cell_type": "code",
   "execution_count": 2,
   "id": "7aea3ca8",
   "metadata": {},
   "outputs": [],
   "source": [
    "json_file = '/home/jax/CvScanner/models/grouping.json'"
   ]
  },
  {
   "cell_type": "code",
   "execution_count": 3,
   "id": "a4268591",
   "metadata": {},
   "outputs": [],
   "source": [
    "category_resumes = load_category_data(json_file)"
   ]
  },
  {
   "cell_type": "code",
   "execution_count": 4,
   "id": "f162c1ce",
   "metadata": {},
   "outputs": [],
   "source": [
    "documents, categories, category_docs = prepare_training_data(category_resumes)\n"
   ]
  },
  {
   "cell_type": "code",
   "execution_count": 6,
   "id": "c7285369",
   "metadata": {},
   "outputs": [
    {
     "data": {
      "text/plain": [
       "25"
      ]
     },
     "execution_count": 6,
     "metadata": {},
     "output_type": "execute_result"
    }
   ],
   "source": [
    "len(set(categories))"
   ]
  },
  {
   "cell_type": "code",
   "execution_count": null,
   "id": "da84f851",
   "metadata": {},
   "outputs": [
    {
     "name": "stdout",
     "output_type": "stream",
     "text": [
      "Method 1 - Comparing with all resumes:\n",
      "1. Data Science: 15.7500\n",
      "2. Python Developer: 8.3900\n",
      "3. Web Designing: 6.5900\n",
      "4. Hadoop: 5.2000\n",
      "5. DotNet Developer: 4.6900\n",
      "\n",
      "==================================================\n",
      "\n",
      "Method 2 - Comparing with category representatives:\n",
      "1. Data Science: 0.2895\n",
      "2. Python Developer: 0.1600\n",
      "3. Web Designing: 0.1053\n",
      "4. DevOps Engineer: 0.0727\n",
      "5. Hadoop: 0.0692\n"
     ]
    }
   ],
   "source": [
    "text_cv = \"\"\"\n",
    "Experienced software developer with 5+ years in Python, \n",
    "machine learning, and web development. Strong background \n",
    "in data analysis and cloud technologies.\n",
    "\"\"\"\n",
    "\n",
    "# Path to your JSON file\n",
    "json_file_path = json_file\n",
    "\n",
    "try:\n",
    "    # Method 1: Compare with all individual resumes\n",
    "    print(\"Method 1 - Comparing with all resumes:\")\n",
    "    top_categories,similariries,vectorizer = find_top_categories(text_cv, json_file_path, top_n=5)\n",
    "    \n",
    "    for i, (category, score) in enumerate(top_categories, 1):\n",
    "        print(f\"{i}. {category}: {score:.4f}\")\n",
    "    \n",
    "    print(\"\\n\" + \"=\"*50 + \"\\n\")\n",
    "    \n",
    "    # Method 2: Compare with category representatives\n",
    "    print(\"Method 2 - Comparing with category representatives:\")\n",
    "    top_categories_alt = find_top_categories_alternative(text_cv, json_file_path, top_n=5)\n",
    "    \n",
    "    for i, (category, score) in enumerate(top_categories_alt, 1):\n",
    "        print(f\"{i}. {category}: {score:.4f}\")\n",
    "        \n",
    "except FileNotFoundError:\n",
    "    print(f\"JSON file not found at: {json_file_path}\")\n",
    "except Exception as e:\n",
    "    print(f\"Error: {e}\")"
   ]
  },
  {
   "cell_type": "code",
   "execution_count": 6,
   "id": "66d71a8c",
   "metadata": {},
   "outputs": [
    {
     "name": "stdout",
     "output_type": "stream",
     "text": [
      "Reducing dimensions with t-SNE...\n",
      "Visualization ready! Showing plot...\n"
     ]
    },
    {
     "data": {
      "application/vnd.plotly.v1+json": {
       "config": {
        "linkText": "Export to plot.ly",
        "plotlyServerURL": "https://plot.ly",
        "showLink": false
       },
       "data": [
        {
         "customdata": [
          [
           "Category: Advocate<br>Similarity: 0.000",
           "Advocate"
          ],
          [
           "Category: Advocate<br>Similarity: 0.000",
           "Advocate"
          ],
          [
           "Category: Advocate<br>Similarity: 0.000",
           "Advocate"
          ],
          [
           "Category: Advocate<br>Similarity: 0.023",
           "Advocate"
          ],
          [
           "Category: Advocate<br>Similarity: 0.022",
           "Advocate"
          ],
          [
           "Category: Advocate<br>Similarity: 0.000",
           "Advocate"
          ],
          [
           "Category: Advocate<br>Similarity: 0.000",
           "Advocate"
          ],
          [
           "Category: Advocate<br>Similarity: 0.000",
           "Advocate"
          ],
          [
           "Category: Advocate<br>Similarity: 0.000",
           "Advocate"
          ],
          [
           "Category: Advocate<br>Similarity: 0.000",
           "Advocate"
          ]
         ],
         "hovertemplate": "size=%{marker.size}<br>hover_text=%{customdata[0]}<extra></extra>",
         "legendgroup": "Advocate",
         "marker": {
          "color": "#636efa",
          "opacity": 0.7,
          "size": {
           "bdata": "AAAAAAAAFEAAAAAAAAAUQAAAAAAAABRAtQoncmzQFUC4iVvdOcgVQAAAAAAAABRAAAAAAAAAFEAAAAAAAAAUQAAAAAAAABRAAAAAAAAAFEA=",
           "dtype": "f8"
          },
          "sizemode": "area",
          "sizeref": 0.026921717005445434,
          "symbol": "circle"
         },
         "mode": "markers",
         "name": "Advocate",
         "orientation": "v",
         "showlegend": true,
         "type": "scatter",
         "x": {
          "bdata": "xnY/wUavFMF5hjLBOAsewXhBNMF8W17BDtR0QOKuP8EQSzjBx7ZxQA==",
          "dtype": "f4"
         },
         "xaxis": "x",
         "y": {
          "bdata": "f1xEwI0I5sDWOZ3A+JWqwCBYUsAKXc6/qG26QPRIn8CqYH3AHqG5QA==",
          "dtype": "f4"
         },
         "yaxis": "y"
        },
        {
         "customdata": [
          [
           "Category: Arts<br>Similarity: 0.008",
           "Arts"
          ],
          [
           "Category: Arts<br>Similarity: 0.000",
           "Arts"
          ],
          [
           "Category: Arts<br>Similarity: 0.023",
           "Arts"
          ],
          [
           "Category: Arts<br>Similarity: 0.000",
           "Arts"
          ],
          [
           "Category: Arts<br>Similarity: 0.000",
           "Arts"
          ],
          [
           "Category: Arts<br>Similarity: 0.012",
           "Arts"
          ]
         ],
         "hovertemplate": "size=%{marker.size}<br>hover_text=%{customdata[0]}<extra></extra>",
         "legendgroup": "Arts",
         "marker": {
          "color": "#EF553B",
          "opacity": 0.7,
          "size": {
           "bdata": "y8Sm2umiFEAAAAAAAAAUQGGYGvMA0BVAAAAAAAAAFEAAAAAAAAAUQKg9gVNI7hRA",
           "dtype": "f8"
          },
          "sizemode": "area",
          "sizeref": 0.026921717005445434,
          "symbol": "circle"
         },
         "mode": "markers",
         "name": "Arts",
         "orientation": "v",
         "showlegend": true,
         "type": "scatter",
         "x": {
          "bdata": "QZVtQLN1lUBA2/Y/0PlNQExTUT8/aodA",
          "dtype": "f4"
         },
         "xaxis": "x",
         "y": {
          "bdata": "6QNevrG6DUHG2xJBV1QWQacGeUEiSRBB",
          "dtype": "f4"
         },
         "yaxis": "y"
        },
        {
         "customdata": [
          [
           "Category: Automation Testing<br>Similarity: 0.031",
           "Automation Testing"
          ],
          [
           "Category: Automation Testing<br>Similarity: 0.010",
           "Automation Testing"
          ],
          [
           "Category: Automation Testing<br>Similarity: 0.056",
           "Automation Testing"
          ],
          [
           "Category: Automation Testing<br>Similarity: 0.045",
           "Automation Testing"
          ],
          [
           "Category: Automation Testing<br>Similarity: 0.037",
           "Automation Testing"
          ],
          [
           "Category: Automation Testing<br>Similarity: 0.026",
           "Automation Testing"
          ],
          [
           "Category: Automation Testing<br>Similarity: 0.008",
           "Automation Testing"
          ]
         ],
         "hovertemplate": "size=%{marker.size}<br>hover_text=%{customdata[0]}<extra></extra>",
         "legendgroup": "Automation Testing",
         "marker": {
          "color": "#00cc96",
          "opacity": 0.7,
          "size": {
           "bdata": "w36qk2OCFkC37TJ4cNUUQNQbz7yodBhAC5n/ryqfF0BEwL3L1PAWQF5y6LjpFRZAM846RhuiFEA=",
           "dtype": "f8"
          },
          "sizemode": "area",
          "sizeref": 0.026921717005445434,
          "symbol": "circle"
         },
         "mode": "markers",
         "name": "Automation Testing",
         "orientation": "v",
         "showlegend": true,
         "type": "scatter",
         "x": {
          "bdata": "9j0fwH9wrcCh0EvAI8tXwO4rjcBVqlrAi9Q0wA==",
          "dtype": "f4"
         },
         "xaxis": "x",
         "y": {
          "bdata": "XCKqP3ltA0Hnkbi9JNIGQB/SGT9BFpo/6blWvw==",
          "dtype": "f4"
         },
         "yaxis": "y"
        },
        {
         "customdata": [
          [
           "Category: Blockchain<br>Similarity: 0.009",
           "Blockchain"
          ],
          [
           "Category: Blockchain<br>Similarity: 0.019",
           "Blockchain"
          ],
          [
           "Category: Blockchain<br>Similarity: 0.033",
           "Blockchain"
          ],
          [
           "Category: Blockchain<br>Similarity: 0.042",
           "Blockchain"
          ],
          [
           "Category: Blockchain<br>Similarity: 0.087",
           "Blockchain"
          ]
         ],
         "hovertemplate": "size=%{marker.size}<br>hover_text=%{customdata[0]}<extra></extra>",
         "legendgroup": "Blockchain",
         "marker": {
          "color": "#ab63fa",
          "opacity": 0.7,
          "size": {
           "bdata": "kJZEUeCyFEC7EjQxZn8VQC3AMGCsqRZATnfakGJXF0DGzUWCxPYaQA==",
           "dtype": "f8"
          },
          "sizemode": "area",
          "sizeref": 0.026921717005445434,
          "symbol": "circle"
         },
         "mode": "markers",
         "name": "Blockchain",
         "orientation": "v",
         "showlegend": true,
         "type": "scatter",
         "x": {
          "bdata": "ecOVwJ6jksDJ4YjAUVaVwGdVRMA=",
          "dtype": "f4"
         },
         "xaxis": "x",
         "y": {
          "bdata": "TPAwwUNIRcEJZSnB72hIwTE8MME=",
          "dtype": "f4"
         },
         "yaxis": "y"
        },
        {
         "customdata": [
          [
           "Category: Business Analyst<br>Similarity: 0.026",
           "Business Analyst"
          ],
          [
           "Category: Business Analyst<br>Similarity: 0.014",
           "Business Analyst"
          ],
          [
           "Category: Business Analyst<br>Similarity: 0.050",
           "Business Analyst"
          ],
          [
           "Category: Business Analyst<br>Similarity: 0.032",
           "Business Analyst"
          ],
          [
           "Category: Business Analyst<br>Similarity: 0.000",
           "Business Analyst"
          ],
          [
           "Category: Business Analyst<br>Similarity: 0.003",
           "Business Analyst"
          ]
         ],
         "hovertemplate": "size=%{marker.size}<br>hover_text=%{customdata[0]}<extra></extra>",
         "legendgroup": "Business Analyst",
         "marker": {
          "color": "#FFA15A",
          "opacity": 0.7,
          "size": {
           "bdata": "71DgzTkXFkBS0zXMVyIVQL5MzLo9+BdAagQz7XaVFkAAAAAAAAAUQNEnuEGfQxRA",
           "dtype": "f8"
          },
          "sizemode": "area",
          "sizeref": 0.026921717005445434,
          "symbol": "circle"
         },
         "mode": "markers",
         "name": "Business Analyst",
         "orientation": "v",
         "showlegend": true,
         "type": "scatter",
         "x": {
          "bdata": "rwEJv26Id78DuLS/7/nPv/+7rD8wORfA",
          "dtype": "f4"
         },
         "xaxis": "x",
         "y": {
          "bdata": "D5ZQQL0Ej0A+eUBAhvZGQDC3Z0CxdqRA",
          "dtype": "f4"
         },
         "yaxis": "y"
        },
        {
         "customdata": [
          [
           "Category: Civil Engineer<br>Similarity: 0.004",
           "Civil Engineer"
          ],
          [
           "Category: Civil Engineer<br>Similarity: 0.000",
           "Civil Engineer"
          ],
          [
           "Category: Civil Engineer<br>Similarity: 0.006",
           "Civil Engineer"
          ],
          [
           "Category: Civil Engineer<br>Similarity: 0.000",
           "Civil Engineer"
          ],
          [
           "Category: Civil Engineer<br>Similarity: 0.010",
           "Civil Engineer"
          ],
          [
           "Category: Civil Engineer<br>Similarity: 0.013",
           "Civil Engineer"
          ]
         ],
         "hovertemplate": "size=%{marker.size}<br>hover_text=%{customdata[0]}<extra></extra>",
         "legendgroup": "Civil Engineer",
         "marker": {
          "color": "#19d3f3",
          "opacity": 0.7,
          "size": {
           "bdata": "SSRblodUFEAAAAAAAAAUQPTbNBoQcRRAAAAAAAAAFEC7X1CgWc0UQOqw0qNFBhVA",
           "dtype": "f8"
          },
          "sizemode": "area",
          "sizeref": 0.026921717005445434,
          "symbol": "circle"
         },
         "mode": "markers",
         "name": "Civil Engineer",
         "orientation": "v",
         "showlegend": true,
         "type": "scatter",
         "x": {
          "bdata": "9EgPwVjvOMGbAiXBI1sVwSOVLMEZ0D3B",
          "dtype": "f4"
         },
         "xaxis": "x",
         "y": {
          "bdata": "IyULQV3LAEGS7gVBfiwFQfYE+EAGIfNA",
          "dtype": "f4"
         },
         "yaxis": "y"
        },
        {
         "customdata": [
          [
           "Category: Data Science<br>Similarity: 0.128",
           "Data Science"
          ],
          [
           "Category: Data Science<br>Similarity: 0.103",
           "Data Science"
          ],
          [
           "Category: Data Science<br>Similarity: 0.143",
           "Data Science"
          ],
          [
           "Category: Data Science<br>Similarity: 0.072",
           "Data Science"
          ],
          [
           "Category: Data Science<br>Similarity: 0.102",
           "Data Science"
          ],
          [
           "Category: Data Science<br>Similarity: 0.133",
           "Data Science"
          ],
          [
           "Category: Data Science<br>Similarity: 0.216",
           "Data Science"
          ],
          [
           "Category: Data Science<br>Similarity: 0.288",
           "Data Science"
          ],
          [
           "Category: Data Science<br>Similarity: 0.202",
           "Data Science"
          ],
          [
           "Category: Data Science<br>Similarity: 0.188",
           "Data Science"
          ]
         ],
         "hovertemplate": "size=%{marker.size}<br>hover_text=%{customdata[0]}<extra></extra>",
         "legendgroup": "Data Science",
         "marker": {
          "color": "#FF6692",
          "opacity": 0.7,
          "size": {
           "bdata": "gluB7tI7HkCEutuY2jMcQBDsB0ylcx9A40v/7Ty6GUBpmXe9RDIcQBxTV8tDnB5Ab186e2egIkC0cQhRkYklQA97FpNkGCJAjMomMgaEIUA=",
           "dtype": "f8"
          },
          "sizemode": "area",
          "sizeref": 0.026921717005445434,
          "symbol": "circle"
         },
         "mode": "markers",
         "name": "Data Science",
         "orientation": "v",
         "showlegend": true,
         "type": "scatter",
         "x": {
          "bdata": "VRhkQOtFrT6LEGs/x1EuQT0LhT7dwKs/LhxuQI/3nEAXgJhAAY14QA==",
          "dtype": "f4"
         },
         "xaxis": "x",
         "y": {
          "bdata": "PKvfwLe4CcHirgPBcszvQGk+FcGujBHBt3sEwQgk0MASqMPAnF0DwQ==",
          "dtype": "f4"
         },
         "yaxis": "y"
        },
        {
         "customdata": [
          [
           "Category: Database<br>Similarity: 0.006",
           "Database"
          ],
          [
           "Category: Database<br>Similarity: 0.013",
           "Database"
          ],
          [
           "Category: Database<br>Similarity: 0.007",
           "Database"
          ],
          [
           "Category: Database<br>Similarity: 0.013",
           "Database"
          ],
          [
           "Category: Database<br>Similarity: 0.007",
           "Database"
          ],
          [
           "Category: Database<br>Similarity: 0.051",
           "Database"
          ],
          [
           "Category: Database<br>Similarity: 0.020",
           "Database"
          ],
          [
           "Category: Database<br>Similarity: 0.008",
           "Database"
          ],
          [
           "Category: Database<br>Similarity: 0.032",
           "Database"
          ],
          [
           "Category: Database<br>Similarity: 0.008",
           "Database"
          ],
          [
           "Category: Database<br>Similarity: 0.120",
           "Database"
          ]
         ],
         "hovertemplate": "size=%{marker.size}<br>hover_text=%{customdata[0]}<extra></extra>",
         "legendgroup": "Database",
         "marker": {
          "color": "#B6E880",
          "opacity": 0.7,
          "size": {
           "bdata": "iBQKLpJyFECinAiU4wsVQHaZ/FjxlhRAolZRUv0CFUCiZ5ESFZgUQC0zWxe1HBhA+1s15/GWFUACRbJMcKEUQPlU863xhhZA4QDCDOCcFECOtkRTXJIdQA==",
           "dtype": "f8"
          },
          "sizemode": "area",
          "sizeref": 0.026921717005445434,
          "symbol": "circle"
         },
         "mode": "markers",
         "name": "Database",
         "orientation": "v",
         "showlegend": true,
         "type": "scatter",
         "x": {
          "bdata": "2mgJQYmoEEGgIAtBDroaQSX85kB8rSVBiaIOQbX2A0GYkAhBPlcaQYL5nUA=",
          "dtype": "f4"
         },
         "xaxis": "x",
         "y": {
          "bdata": "xPREwXgcUcH4dl7B7+MswSlRPMENaijBD80lwRnRU8ELBhvBdX8fwS3GC8E=",
          "dtype": "f4"
         },
         "yaxis": "y"
        },
        {
         "customdata": [
          [
           "Category: DevOps Engineer<br>Similarity: 0.075",
           "DevOps Engineer"
          ],
          [
           "Category: DevOps Engineer<br>Similarity: 0.028",
           "DevOps Engineer"
          ],
          [
           "Category: DevOps Engineer<br>Similarity: 0.020",
           "DevOps Engineer"
          ],
          [
           "Category: DevOps Engineer<br>Similarity: 0.078",
           "DevOps Engineer"
          ],
          [
           "Category: DevOps Engineer<br>Similarity: 0.029",
           "DevOps Engineer"
          ],
          [
           "Category: DevOps Engineer<br>Similarity: 0.026",
           "DevOps Engineer"
          ],
          [
           "Category: DevOps Engineer<br>Similarity: 0.030",
           "DevOps Engineer"
          ]
         ],
         "hovertemplate": "size=%{marker.size}<br>hover_text=%{customdata[0]}<extra></extra>",
         "legendgroup": "DevOps Engineer",
         "marker": {
          "color": "#FF97FF",
          "opacity": 0.7,
          "size": {
           "bdata": "UQEAZSECGkDKxECNDUcWQLs2cPdeoRVAHEtRMq04GkCb+2o5FlcWQBDZL0nfDBZApoGqIF9tFkA=",
           "dtype": "f8"
          },
          "sizemode": "area",
          "sizeref": 0.026921717005445434,
          "symbol": "circle"
         },
         "mode": "markers",
         "name": "DevOps Engineer",
         "orientation": "v",
         "showlegend": true,
         "type": "scatter",
         "x": {
          "bdata": "rW61QEqxGDwtaqRA+3QhQZXC2L5qu9S/Qbt1wA==",
          "dtype": "f4"
         },
         "xaxis": "x",
         "y": {
          "bdata": "tCA3wYA33sBPazTBl4CywGLLyEANTdZA5pszQA==",
          "dtype": "f4"
         },
         "yaxis": "y"
        },
        {
         "customdata": [
          [
           "Category: DotNet Developer<br>Similarity: 0.026",
           "DotNet Developer"
          ],
          [
           "Category: DotNet Developer<br>Similarity: 0.013",
           "DotNet Developer"
          ],
          [
           "Category: DotNet Developer<br>Similarity: 0.028",
           "DotNet Developer"
          ],
          [
           "Category: DotNet Developer<br>Similarity: 0.168",
           "DotNet Developer"
          ],
          [
           "Category: DotNet Developer<br>Similarity: 0.032",
           "DotNet Developer"
          ],
          [
           "Category: DotNet Developer<br>Similarity: 0.033",
           "DotNet Developer"
          ],
          [
           "Category: DotNet Developer<br>Similarity: 0.028",
           "DotNet Developer"
          ]
         ],
         "hovertemplate": "size=%{marker.size}<br>hover_text=%{customdata[0]}<extra></extra>",
         "legendgroup": "DotNet Developer",
         "marker": {
          "color": "#FECB52",
          "opacity": 0.7,
          "size": {
           "bdata": "GO9J3+MOFkA2P/F7ZwcVQKp3N9zWRhZAhaiFO2a5IECY0nGh25MWQF24gxXonxZAisxuw8pCFkA=",
           "dtype": "f8"
          },
          "sizemode": "area",
          "sizeref": 0.026921717005445434,
          "symbol": "circle"
         },
         "mode": "markers",
         "name": "DotNet Developer",
         "orientation": "v",
         "showlegend": true,
         "type": "scatter",
         "x": {
          "bdata": "mIAVQWhp10ALiwJBv8rUQOrSFUHQzgVBGwsQQQ==",
          "dtype": "f4"
         },
         "xaxis": "x",
         "y": {
          "bdata": "bo1swFzHNcChp3jAMR8ZwHG3n8ABq5nAuiaJwA==",
          "dtype": "f4"
         },
         "yaxis": "y"
        },
        {
         "customdata": [
          [
           "Category: ETL Developer<br>Similarity: 0.030",
           "ETL Developer"
          ],
          [
           "Category: ETL Developer<br>Similarity: 0.035",
           "ETL Developer"
          ],
          [
           "Category: ETL Developer<br>Similarity: 0.039",
           "ETL Developer"
          ],
          [
           "Category: ETL Developer<br>Similarity: 0.050",
           "ETL Developer"
          ],
          [
           "Category: ETL Developer<br>Similarity: 0.030",
           "ETL Developer"
          ]
         ],
         "hovertemplate": "size=%{marker.size}<br>hover_text=%{customdata[0]}<extra></extra>",
         "legendgroup": "ETL Developer",
         "marker": {
          "color": "#636efa",
          "opacity": 0.7,
          "size": {
           "bdata": "uWb1rqZuFkDyqjUXqcoWQDwqwCNEKBdASMWuTVsGGEBen7U+5GEWQA==",
           "dtype": "f8"
          },
          "sizemode": "area",
          "sizeref": 0.026921717005445434,
          "symbol": "circle"
         },
         "mode": "markers",
         "name": "ETL Developer",
         "orientation": "v",
         "showlegend": true,
         "type": "scatter",
         "x": {
          "bdata": "7JIyQbJ1OkG/7zZB/PYtQRCcJ0E=",
          "dtype": "f4"
         },
         "xaxis": "x",
         "y": {
          "bdata": "7nXWP3bkhD+ktiQ/OqAlQFm1JD4=",
          "dtype": "f4"
         },
         "yaxis": "y"
        },
        {
         "customdata": [
          [
           "Category: Electrical Engineering<br>Similarity: 0.017",
           "Electrical Engineering"
          ],
          [
           "Category: Electrical Engineering<br>Similarity: 0.000",
           "Electrical Engineering"
          ],
          [
           "Category: Electrical Engineering<br>Similarity: 0.020",
           "Electrical Engineering"
          ],
          [
           "Category: Electrical Engineering<br>Similarity: 0.013",
           "Electrical Engineering"
          ],
          [
           "Category: Electrical Engineering<br>Similarity: 0.029",
           "Electrical Engineering"
          ]
         ],
         "hovertemplate": "size=%{marker.size}<br>hover_text=%{customdata[0]}<extra></extra>",
         "legendgroup": "Electrical Engineering",
         "marker": {
          "color": "#EF553B",
          "opacity": 0.7,
          "size": {
           "bdata": "hincSBJSFUAAAAAAAAAUQJssXKk1ohVABAJbbdUQFUDj9PQb1VUWQA==",
           "dtype": "f8"
          },
          "sizemode": "area",
          "sizeref": 0.026921717005445434,
          "symbol": "circle"
         },
         "mode": "markers",
         "name": "Electrical Engineering",
         "orientation": "v",
         "showlegend": true,
         "type": "scatter",
         "x": {
          "bdata": "bGizwPtnz0BhQLbAfI60wGVzxMA=",
          "dtype": "f4"
         },
         "xaxis": "x",
         "y": {
          "bdata": "OdnEQKX0jD8Ph+pAa++rQDGa1kA=",
          "dtype": "f4"
         },
         "yaxis": "y"
        },
        {
         "customdata": [
          [
           "Category: HR<br>Similarity: 0.000",
           "HR"
          ],
          [
           "Category: HR<br>Similarity: 0.016",
           "HR"
          ],
          [
           "Category: HR<br>Similarity: 0.000",
           "HR"
          ],
          [
           "Category: HR<br>Similarity: 0.000",
           "HR"
          ],
          [
           "Category: HR<br>Similarity: 0.000",
           "HR"
          ],
          [
           "Category: HR<br>Similarity: 0.000",
           "HR"
          ],
          [
           "Category: HR<br>Similarity: 0.009",
           "HR"
          ],
          [
           "Category: HR<br>Similarity: 0.000",
           "HR"
          ],
          [
           "Category: HR<br>Similarity: 0.008",
           "HR"
          ],
          [
           "Category: HR<br>Similarity: 0.025",
           "HR"
          ]
         ],
         "hovertemplate": "size=%{marker.size}<br>hover_text=%{customdata[0]}<extra></extra>",
         "legendgroup": "HR",
         "marker": {
          "color": "#00cc96",
          "opacity": 0.7,
          "size": {
           "bdata": "AAAAAAAAFECxBo03KkEVQAAAAAAAABRAAAAAAAAAFEAAAAAAAAAUQAAAAAAAABRALXnpYICvFEAAAAAAAAAUQNpL66o+mxRACKLmXo76FUA=",
           "dtype": "f8"
          },
          "sizemode": "area",
          "sizeref": 0.026921717005445434,
          "symbol": "circle"
         },
         "mode": "markers",
         "name": "HR",
         "orientation": "v",
         "showlegend": true,
         "type": "scatter",
         "x": {
          "bdata": "xdhtQfphAsDQSy3BK0xiwfh6LcEI+G1BCAH7wBIU4EDCvOfAVaDhwA==",
          "dtype": "f4"
         },
         "xaxis": "x",
         "y": {
          "bdata": "v/SKwCpsAUHD/TnBlzyvv8knOsFioIrAJMPtwAvMej9v+lS/1/LpwA==",
          "dtype": "f4"
         },
         "yaxis": "y"
        },
        {
         "customdata": [
          [
           "Category: Hadoop<br>Similarity: 0.065",
           "Hadoop"
          ],
          [
           "Category: Hadoop<br>Similarity: 0.029",
           "Hadoop"
          ],
          [
           "Category: Hadoop<br>Similarity: 0.056",
           "Hadoop"
          ],
          [
           "Category: Hadoop<br>Similarity: 0.073",
           "Hadoop"
          ],
          [
           "Category: Hadoop<br>Similarity: 0.064",
           "Hadoop"
          ],
          [
           "Category: Hadoop<br>Similarity: 0.027",
           "Hadoop"
          ],
          [
           "Category: Hadoop<br>Similarity: 0.050",
           "Hadoop"
          ]
         ],
         "hovertemplate": "size=%{marker.size}<br>hover_text=%{customdata[0]}<extra></extra>",
         "legendgroup": "Hadoop",
         "marker": {
          "color": "#ab63fa",
          "opacity": 0.7,
          "size": {
           "bdata": "VAjEBgkvGUA4ISqMlFYWQK6yfJvBgxhAPEArQ0raGUBWe+afgiAZQFuIRF/nHxZAoxWFtiIAGEA=",
           "dtype": "f8"
          },
          "sizemode": "area",
          "sizeref": 0.026921717005445434,
          "symbol": "circle"
         },
         "mode": "markers",
         "name": "Hadoop",
         "orientation": "v",
         "showlegend": true,
         "type": "scatter",
         "x": {
          "bdata": "Cwh/QTOsgkHAY3ZBEWhpQShAb0EbmHpBnlBrQQ==",
          "dtype": "f4"
         },
         "xaxis": "x",
         "y": {
          "bdata": "z+s5QAS8d0C5RlVAFINAQIMVd0D2D5hAA2YIQA==",
          "dtype": "f4"
         },
         "yaxis": "y"
        },
        {
         "customdata": [
          [
           "Category: Health and fitness<br>Similarity: 0.000",
           "Health and fitness"
          ],
          [
           "Category: Health and fitness<br>Similarity: 0.042",
           "Health and fitness"
          ],
          [
           "Category: Health and fitness<br>Similarity: 0.000",
           "Health and fitness"
          ],
          [
           "Category: Health and fitness<br>Similarity: 0.005",
           "Health and fitness"
          ],
          [
           "Category: Health and fitness<br>Similarity: 0.000",
           "Health and fitness"
          ],
          [
           "Category: Health and fitness<br>Similarity: 0.019",
           "Health and fitness"
          ]
         ],
         "hovertemplate": "size=%{marker.size}<br>hover_text=%{customdata[0]}<extra></extra>",
         "legendgroup": "Health and fitness",
         "marker": {
          "color": "#FFA15A",
          "opacity": 0.7,
          "size": {
           "bdata": "AAAAAAAAFEBCQ5NimGAXQAAAAAAAABRAuCVF7INkFEAAAAAAAAAUQN1Uy9m3hBVA",
           "dtype": "f8"
          },
          "sizemode": "area",
          "sizeref": 0.026921717005445434,
          "symbol": "circle"
         },
         "mode": "markers",
         "name": "Health and fitness",
         "orientation": "v",
         "showlegend": true,
         "type": "scatter",
         "x": {
          "bdata": "VZh0PzILW0BIoE4/KY6YP/gFkUBDU3VA",
          "dtype": "f4"
         },
         "xaxis": "x",
         "y": {
          "bdata": "IIhsQWUCWUGkt1tBlT5fQdbCTUE8S1VB",
          "dtype": "f4"
         },
         "yaxis": "y"
        },
        {
         "customdata": [
          [
           "Category: Java Developer<br>Similarity: 0.025",
           "Java Developer"
          ],
          [
           "Category: Java Developer<br>Similarity: 0.023",
           "Java Developer"
          ],
          [
           "Category: Java Developer<br>Similarity: 0.058",
           "Java Developer"
          ],
          [
           "Category: Java Developer<br>Similarity: 0.039",
           "Java Developer"
          ],
          [
           "Category: Java Developer<br>Similarity: 0.039",
           "Java Developer"
          ],
          [
           "Category: Java Developer<br>Similarity: 0.019",
           "Java Developer"
          ],
          [
           "Category: Java Developer<br>Similarity: 0.013",
           "Java Developer"
          ],
          [
           "Category: Java Developer<br>Similarity: 0.048",
           "Java Developer"
          ],
          [
           "Category: Java Developer<br>Similarity: 0.032",
           "Java Developer"
          ],
          [
           "Category: Java Developer<br>Similarity: 0.063",
           "Java Developer"
          ],
          [
           "Category: Java Developer<br>Similarity: 0.030",
           "Java Developer"
          ],
          [
           "Category: Java Developer<br>Similarity: 0.036",
           "Java Developer"
          ],
          [
           "Category: Java Developer<br>Similarity: 0.043",
           "Java Developer"
          ]
         ],
         "hovertemplate": "size=%{marker.size}<br>hover_text=%{customdata[0]}<extra></extra>",
         "legendgroup": "Java Developer",
         "marker": {
          "color": "#19d3f3",
          "opacity": 0.7,
          "size": {
           "bdata": "UpI7DMQEFkDi6cJ3cNkVQNg9dB/XoxhAxNN63dQaF0C4LCxUlBYXQF0/sxbfiBVAD1BFGuYKFUALPGlz8dAXQI6aGTYWkRZARJN6FroJGUB1fuw3KG0WQDtbaivU5BZAQYFEkHF6F0A=",
           "dtype": "f8"
          },
          "sizemode": "area",
          "sizeref": 0.026921717005445434,
          "symbol": "circle"
         },
         "mode": "markers",
         "name": "Java Developer",
         "orientation": "v",
         "showlegend": true,
         "type": "scatter",
         "x": {
          "bdata": "AG8gwFCNQ8CkXMK/BMdVv6NBhsDH8sS/FzETwCnLbMDglCTAa6SEwMjleMBzXa/AFQOavw==",
          "dtype": "f4"
         },
         "xaxis": "x",
         "y": {
          "bdata": "8UyOwHJTKcC98lHATWqDwAcZcsAHesnALYrPwNtfn8Dj6rXAPuW5wKgQzsCUrcrATGCZwA==",
          "dtype": "f4"
         },
         "yaxis": "y"
        },
        {
         "customdata": [
          [
           "Category: Mechanical Engineer<br>Similarity: 0.021",
           "Mechanical Engineer"
          ],
          [
           "Category: Mechanical Engineer<br>Similarity: 0.068",
           "Mechanical Engineer"
          ],
          [
           "Category: Mechanical Engineer<br>Similarity: 0.000",
           "Mechanical Engineer"
          ],
          [
           "Category: Mechanical Engineer<br>Similarity: 0.006",
           "Mechanical Engineer"
          ],
          [
           "Category: Mechanical Engineer<br>Similarity: 0.047",
           "Mechanical Engineer"
          ]
         ],
         "hovertemplate": "size=%{marker.size}<br>hover_text=%{customdata[0]}<extra></extra>",
         "legendgroup": "Mechanical Engineer",
         "marker": {
          "color": "#FF6692",
          "opacity": 0.7,
          "size": {
           "bdata": "LrRp+aWkFUDUn1rccm4ZQAAAAAAAABRAwhxyjrWEFED61rDZMsYXQA==",
           "dtype": "f8"
          },
          "sizemode": "area",
          "sizeref": 0.026921717005445434,
          "symbol": "circle"
         },
         "mode": "markers",
         "name": "Mechanical Engineer",
         "orientation": "v",
         "showlegend": true,
         "type": "scatter",
         "x": {
          "bdata": "eWEywGWqfUAOE6dARbSXQCkGikA=",
          "dtype": "f4"
         },
         "xaxis": "x",
         "y": {
          "bdata": "hDUdQfrKeT8fbE1AipxDQMAqO0A=",
          "dtype": "f4"
         },
         "yaxis": "y"
        },
        {
         "customdata": [
          [
           "Category: Network Security Engineer<br>Similarity: 0.005",
           "Network Security Engineer"
          ],
          [
           "Category: Network Security Engineer<br>Similarity: 0.003",
           "Network Security Engineer"
          ],
          [
           "Category: Network Security Engineer<br>Similarity: 0.014",
           "Network Security Engineer"
          ],
          [
           "Category: Network Security Engineer<br>Similarity: 0.019",
           "Network Security Engineer"
          ],
          [
           "Category: Network Security Engineer<br>Similarity: 0.002",
           "Network Security Engineer"
          ]
         ],
         "hovertemplate": "size=%{marker.size}<br>hover_text=%{customdata[0]}<extra></extra>",
         "legendgroup": "Network Security Engineer",
         "marker": {
          "color": "#B6E880",
          "opacity": 0.7,
          "size": {
           "bdata": "iu7ujxVnFEAKoXzjyzUUQJE7gHrcHBVAh1Eye1+OFUBb7kGuoi8UQA==",
           "dtype": "f8"
          },
          "sizemode": "area",
          "sizeref": 0.026921717005445434,
          "symbol": "circle"
         },
         "mode": "markers",
         "name": "Network Security Engineer",
         "orientation": "v",
         "showlegend": true,
         "type": "scatter",
         "x": {
          "bdata": "vI2vP7HMYD/Gx8U/9s7oP/4qKEA=",
          "dtype": "f4"
         },
         "xaxis": "x",
         "y": {
          "bdata": "xk1YwSJRRsG2smvBF4Vhwa+rY8E=",
          "dtype": "f4"
         },
         "yaxis": "y"
        },
        {
         "customdata": [
          [
           "Category: Operations Manager<br>Similarity: 0.015",
           "Operations Manager"
          ],
          [
           "Category: Operations Manager<br>Similarity: 0.022",
           "Operations Manager"
          ],
          [
           "Category: Operations Manager<br>Similarity: 0.008",
           "Operations Manager"
          ],
          [
           "Category: Operations Manager<br>Similarity: 0.016",
           "Operations Manager"
          ]
         ],
         "hovertemplate": "size=%{marker.size}<br>hover_text=%{customdata[0]}<extra></extra>",
         "legendgroup": "Operations Manager",
         "marker": {
          "color": "#FF97FF",
          "opacity": 0.7,
          "size": {
           "bdata": "8Aaz24w7FUDWMNrsPcIVQKjHnfYtoRRAaHGEmiZJFUA=",
           "dtype": "f8"
          },
          "sizemode": "area",
          "sizeref": 0.026921717005445434,
          "symbol": "circle"
         },
         "mode": "markers",
         "name": "Operations Manager",
         "orientation": "v",
         "showlegend": true,
         "type": "scatter",
         "x": {
          "bdata": "mYe+vpmDPr+l4Km/9cp9wA==",
          "dtype": "f4"
         },
         "xaxis": "x",
         "y": {
          "bdata": "bScFQUAuEkH8ch5BtlYKQQ==",
          "dtype": "f4"
         },
         "yaxis": "y"
        },
        {
         "customdata": [
          [
           "Category: PMO<br>Similarity: 0.036",
           "PMO"
          ],
          [
           "Category: PMO<br>Similarity: 0.013",
           "PMO"
          ],
          [
           "Category: PMO<br>Similarity: 0.011",
           "PMO"
          ]
         ],
         "hovertemplate": "size=%{marker.size}<br>hover_text=%{customdata[0]}<extra></extra>",
         "legendgroup": "PMO",
         "marker": {
          "color": "#FECB52",
          "opacity": 0.7,
          "size": {
           "bdata": "b9LXfvrkFkAKr44gNwsVQE2MrbD04BRA",
           "dtype": "f8"
          },
          "sizemode": "area",
          "sizeref": 0.026921717005445434,
          "symbol": "circle"
         },
         "mode": "markers",
         "name": "PMO",
         "orientation": "v",
         "showlegend": true,
         "type": "scatter",
         "x": {
          "bdata": "sx0OPu8Wjb7pYR8/",
          "dtype": "f4"
         },
         "xaxis": "x",
         "y": {
          "bdata": "vgvaQF7E5kC2hrlA",
          "dtype": "f4"
         },
         "yaxis": "y"
        },
        {
         "customdata": [
          [
           "Category: Python Developer<br>Similarity: 0.108",
           "Python Developer"
          ],
          [
           "Category: Python Developer<br>Similarity: 0.063",
           "Python Developer"
          ],
          [
           "Category: Python Developer<br>Similarity: 0.075",
           "Python Developer"
          ],
          [
           "Category: Python Developer<br>Similarity: 0.102",
           "Python Developer"
          ],
          [
           "Category: Python Developer<br>Similarity: 0.030",
           "Python Developer"
          ],
          [
           "Category: Python Developer<br>Similarity: 0.124",
           "Python Developer"
          ]
         ],
         "hovertemplate": "size=%{marker.size}<br>hover_text=%{customdata[0]}<extra></extra>",
         "legendgroup": "Python Developer",
         "marker": {
          "color": "#636efa",
          "opacity": 0.7,
          "size": {
           "bdata": "xJ1olySgHEDPjDMp+hAZQM/fIEkIAxpAfNB1Tv8yHECXHvK59GsWQHOpZAfi8x1A",
           "dtype": "f8"
          },
          "sizemode": "area",
          "sizeref": 0.026921717005445434,
          "symbol": "circle"
         },
         "mode": "markers",
         "name": "Python Developer",
         "orientation": "v",
         "showlegend": true,
         "type": "scatter",
         "x": {
          "bdata": "bZM6QCzDiUAMFEhANCT+P0n3WkBmBPA/",
          "dtype": "f4"
         },
         "xaxis": "x",
         "y": {
          "bdata": "zm57wP1aJMCnhBTA5hiRwGbFs789VoHA",
          "dtype": "f4"
         },
         "yaxis": "y"
        },
        {
         "customdata": [
          [
           "Category: SAP Developer<br>Similarity: 0.051",
           "SAP Developer"
          ],
          [
           "Category: SAP Developer<br>Similarity: 0.030",
           "SAP Developer"
          ],
          [
           "Category: SAP Developer<br>Similarity: 0.021",
           "SAP Developer"
          ],
          [
           "Category: SAP Developer<br>Similarity: 0.026",
           "SAP Developer"
          ],
          [
           "Category: SAP Developer<br>Similarity: 0.031",
           "SAP Developer"
          ],
          [
           "Category: SAP Developer<br>Similarity: 0.025",
           "SAP Developer"
          ]
         ],
         "hovertemplate": "size=%{marker.size}<br>hover_text=%{customdata[0]}<extra></extra>",
         "legendgroup": "SAP Developer",
         "marker": {
          "color": "#EF553B",
          "opacity": 0.7,
          "size": {
           "bdata": "VV/tbVcTGEAfY9ZW9WoWQH/K+/PGrBVA+FB3Gt0QFkAInddSmH8WQNg5rGygBxZA",
           "dtype": "f8"
          },
          "sizemode": "area",
          "sizeref": 0.026921717005445434,
          "symbol": "circle"
         },
         "mode": "markers",
         "name": "SAP Developer",
         "orientation": "v",
         "showlegend": true,
         "type": "scatter",
         "x": {
          "bdata": "B6MdQfwvIEEmKCpB75D7QFejBkFYPgxB",
          "dtype": "f4"
         },
         "xaxis": "x",
         "y": {
          "bdata": "fOGNQDcv5UBF3vRAlFPWQDi3tkBUcL9A",
          "dtype": "f4"
         },
         "yaxis": "y"
        },
        {
         "customdata": [
          [
           "Category: Sales<br>Similarity: 0.006",
           "Sales"
          ],
          [
           "Category: Sales<br>Similarity: 0.000",
           "Sales"
          ],
          [
           "Category: Sales<br>Similarity: 0.004",
           "Sales"
          ],
          [
           "Category: Sales<br>Similarity: 0.009",
           "Sales"
          ],
          [
           "Category: Sales<br>Similarity: 0.000",
           "Sales"
          ]
         ],
         "hovertemplate": "size=%{marker.size}<br>hover_text=%{customdata[0]}<extra></extra>",
         "legendgroup": "Sales",
         "marker": {
          "color": "#00cc96",
          "opacity": 0.7,
          "size": {
           "bdata": "pqKEvjp6FEAAAAAAAAAUQJUmuVOoWRRAfg5ujlizFEAAAAAAAAAUQA==",
           "dtype": "f8"
          },
          "sizemode": "area",
          "sizeref": 0.026921717005445434,
          "symbol": "circle"
         },
         "mode": "markers",
         "name": "Sales",
         "orientation": "v",
         "showlegend": true,
         "type": "scatter",
         "x": {
          "bdata": "G8ZKvzh2EMFeJA/BqrQMwbu2A8E=",
          "dtype": "f4"
         },
         "xaxis": "x",
         "y": {
          "bdata": "ltsWwSg8HkB3UiBAlUG6P6HfM0A=",
          "dtype": "f4"
         },
         "yaxis": "y"
        },
        {
         "customdata": [
          [
           "Category: Testing<br>Similarity: 0.000",
           "Testing"
          ],
          [
           "Category: Testing<br>Similarity: 0.004",
           "Testing"
          ],
          [
           "Category: Testing<br>Similarity: 0.000",
           "Testing"
          ],
          [
           "Category: Testing<br>Similarity: 0.000",
           "Testing"
          ],
          [
           "Category: Testing<br>Similarity: 0.006",
           "Testing"
          ],
          [
           "Category: Testing<br>Similarity: 0.016",
           "Testing"
          ],
          [
           "Category: Testing<br>Similarity: 0.033",
           "Testing"
          ]
         ],
         "hovertemplate": "size=%{marker.size}<br>hover_text=%{customdata[0]}<extra></extra>",
         "legendgroup": "Testing",
         "marker": {
          "color": "#ab63fa",
          "opacity": 0.7,
          "size": {
           "bdata": "AAAAAAAAFED5S3KZlksUQAAAAAAAABRAAAAAAAAAFED13TcwI4EUQLOwsRBdRxVAG19Nuk+sFkA=",
           "dtype": "f8"
          },
          "sizemode": "area",
          "sizeref": 0.026921717005445434,
          "symbol": "circle"
         },
         "mode": "markers",
         "name": "Testing",
         "orientation": "v",
         "showlegend": true,
         "type": "scatter",
         "x": {
          "bdata": "WwTHvagzlcCexd3Ac4OgwPSb0cAA1Kw+P36GwA==",
          "dtype": "f4"
         },
         "xaxis": "x",
         "y": {
          "bdata": "uSj7Ppg2w7/6MzNBBXE4QZsUNkG8Hpi/GRbevg==",
          "dtype": "f4"
         },
         "yaxis": "y"
        },
        {
         "customdata": [
          [
           "Category: Web Designing<br>Similarity: 0.035",
           "Web Designing"
          ],
          [
           "Category: Web Designing<br>Similarity: 0.106",
           "Web Designing"
          ],
          [
           "Category: Web Designing<br>Similarity: 0.044",
           "Web Designing"
          ],
          [
           "Category: Web Designing<br>Similarity: 0.079",
           "Web Designing"
          ]
         ],
         "hovertemplate": "size=%{marker.size}<br>hover_text=%{customdata[0]}<extra></extra>",
         "legendgroup": "Web Designing",
         "marker": {
          "color": "#FFA15A",
          "opacity": 0.7,
          "size": {
           "bdata": "AjCQ+VTHFkDZ526fI3IcQLU539czjRdAaIt3pu5QGkA=",
           "dtype": "f8"
          },
          "sizemode": "area",
          "sizeref": 0.026921717005445434,
          "symbol": "circle"
         },
         "mode": "markers",
         "name": "Web Designing",
         "orientation": "v",
         "showlegend": true,
         "type": "scatter",
         "x": {
          "bdata": "pC/iwJZLhMCutvM/Zt/XwA==",
          "dtype": "f4"
         },
         "xaxis": "x",
         "y": {
          "bdata": "8ftJwKmj/8DL7x1AIiRUwA==",
          "dtype": "f4"
         },
         "yaxis": "y"
        },
        {
         "hoverinfo": "text",
         "hovertext": "Your Input CV",
         "marker": {
          "color": "black",
          "line": {
           "color": "white",
           "width": 2
          },
          "size": 20,
          "symbol": "star"
         },
         "mode": "markers+text",
         "name": "Input CV",
         "text": "Your CV",
         "textposition": "middle center",
         "type": "scatter",
         "x": [
          5.726515293121338
         ],
         "y": [
          -6.390872478485107
         ]
        }
       ],
       "layout": {
        "height": 700,
        "hovermode": "closest",
        "legend": {
         "itemsizing": "constant",
         "orientation": "h",
         "title": {
          "text": "category"
         },
         "tracegroupgap": 0,
         "x": 1,
         "xanchor": "right",
         "y": 1.02,
         "yanchor": "bottom"
        },
        "showlegend": true,
        "template": {
         "data": {
          "bar": [
           {
            "error_x": {
             "color": "#2a3f5f"
            },
            "error_y": {
             "color": "#2a3f5f"
            },
            "marker": {
             "line": {
              "color": "#E5ECF6",
              "width": 0.5
             },
             "pattern": {
              "fillmode": "overlay",
              "size": 10,
              "solidity": 0.2
             }
            },
            "type": "bar"
           }
          ],
          "barpolar": [
           {
            "marker": {
             "line": {
              "color": "#E5ECF6",
              "width": 0.5
             },
             "pattern": {
              "fillmode": "overlay",
              "size": 10,
              "solidity": 0.2
             }
            },
            "type": "barpolar"
           }
          ],
          "carpet": [
           {
            "aaxis": {
             "endlinecolor": "#2a3f5f",
             "gridcolor": "white",
             "linecolor": "white",
             "minorgridcolor": "white",
             "startlinecolor": "#2a3f5f"
            },
            "baxis": {
             "endlinecolor": "#2a3f5f",
             "gridcolor": "white",
             "linecolor": "white",
             "minorgridcolor": "white",
             "startlinecolor": "#2a3f5f"
            },
            "type": "carpet"
           }
          ],
          "choropleth": [
           {
            "colorbar": {
             "outlinewidth": 0,
             "ticks": ""
            },
            "type": "choropleth"
           }
          ],
          "contour": [
           {
            "colorbar": {
             "outlinewidth": 0,
             "ticks": ""
            },
            "colorscale": [
             [
              0,
              "#0d0887"
             ],
             [
              0.1111111111111111,
              "#46039f"
             ],
             [
              0.2222222222222222,
              "#7201a8"
             ],
             [
              0.3333333333333333,
              "#9c179e"
             ],
             [
              0.4444444444444444,
              "#bd3786"
             ],
             [
              0.5555555555555556,
              "#d8576b"
             ],
             [
              0.6666666666666666,
              "#ed7953"
             ],
             [
              0.7777777777777778,
              "#fb9f3a"
             ],
             [
              0.8888888888888888,
              "#fdca26"
             ],
             [
              1,
              "#f0f921"
             ]
            ],
            "type": "contour"
           }
          ],
          "contourcarpet": [
           {
            "colorbar": {
             "outlinewidth": 0,
             "ticks": ""
            },
            "type": "contourcarpet"
           }
          ],
          "heatmap": [
           {
            "colorbar": {
             "outlinewidth": 0,
             "ticks": ""
            },
            "colorscale": [
             [
              0,
              "#0d0887"
             ],
             [
              0.1111111111111111,
              "#46039f"
             ],
             [
              0.2222222222222222,
              "#7201a8"
             ],
             [
              0.3333333333333333,
              "#9c179e"
             ],
             [
              0.4444444444444444,
              "#bd3786"
             ],
             [
              0.5555555555555556,
              "#d8576b"
             ],
             [
              0.6666666666666666,
              "#ed7953"
             ],
             [
              0.7777777777777778,
              "#fb9f3a"
             ],
             [
              0.8888888888888888,
              "#fdca26"
             ],
             [
              1,
              "#f0f921"
             ]
            ],
            "type": "heatmap"
           }
          ],
          "histogram": [
           {
            "marker": {
             "pattern": {
              "fillmode": "overlay",
              "size": 10,
              "solidity": 0.2
             }
            },
            "type": "histogram"
           }
          ],
          "histogram2d": [
           {
            "colorbar": {
             "outlinewidth": 0,
             "ticks": ""
            },
            "colorscale": [
             [
              0,
              "#0d0887"
             ],
             [
              0.1111111111111111,
              "#46039f"
             ],
             [
              0.2222222222222222,
              "#7201a8"
             ],
             [
              0.3333333333333333,
              "#9c179e"
             ],
             [
              0.4444444444444444,
              "#bd3786"
             ],
             [
              0.5555555555555556,
              "#d8576b"
             ],
             [
              0.6666666666666666,
              "#ed7953"
             ],
             [
              0.7777777777777778,
              "#fb9f3a"
             ],
             [
              0.8888888888888888,
              "#fdca26"
             ],
             [
              1,
              "#f0f921"
             ]
            ],
            "type": "histogram2d"
           }
          ],
          "histogram2dcontour": [
           {
            "colorbar": {
             "outlinewidth": 0,
             "ticks": ""
            },
            "colorscale": [
             [
              0,
              "#0d0887"
             ],
             [
              0.1111111111111111,
              "#46039f"
             ],
             [
              0.2222222222222222,
              "#7201a8"
             ],
             [
              0.3333333333333333,
              "#9c179e"
             ],
             [
              0.4444444444444444,
              "#bd3786"
             ],
             [
              0.5555555555555556,
              "#d8576b"
             ],
             [
              0.6666666666666666,
              "#ed7953"
             ],
             [
              0.7777777777777778,
              "#fb9f3a"
             ],
             [
              0.8888888888888888,
              "#fdca26"
             ],
             [
              1,
              "#f0f921"
             ]
            ],
            "type": "histogram2dcontour"
           }
          ],
          "mesh3d": [
           {
            "colorbar": {
             "outlinewidth": 0,
             "ticks": ""
            },
            "type": "mesh3d"
           }
          ],
          "parcoords": [
           {
            "line": {
             "colorbar": {
              "outlinewidth": 0,
              "ticks": ""
             }
            },
            "type": "parcoords"
           }
          ],
          "pie": [
           {
            "automargin": true,
            "type": "pie"
           }
          ],
          "scatter": [
           {
            "fillpattern": {
             "fillmode": "overlay",
             "size": 10,
             "solidity": 0.2
            },
            "type": "scatter"
           }
          ],
          "scatter3d": [
           {
            "line": {
             "colorbar": {
              "outlinewidth": 0,
              "ticks": ""
             }
            },
            "marker": {
             "colorbar": {
              "outlinewidth": 0,
              "ticks": ""
             }
            },
            "type": "scatter3d"
           }
          ],
          "scattercarpet": [
           {
            "marker": {
             "colorbar": {
              "outlinewidth": 0,
              "ticks": ""
             }
            },
            "type": "scattercarpet"
           }
          ],
          "scattergeo": [
           {
            "marker": {
             "colorbar": {
              "outlinewidth": 0,
              "ticks": ""
             }
            },
            "type": "scattergeo"
           }
          ],
          "scattergl": [
           {
            "marker": {
             "colorbar": {
              "outlinewidth": 0,
              "ticks": ""
             }
            },
            "type": "scattergl"
           }
          ],
          "scattermap": [
           {
            "marker": {
             "colorbar": {
              "outlinewidth": 0,
              "ticks": ""
             }
            },
            "type": "scattermap"
           }
          ],
          "scattermapbox": [
           {
            "marker": {
             "colorbar": {
              "outlinewidth": 0,
              "ticks": ""
             }
            },
            "type": "scattermapbox"
           }
          ],
          "scatterpolar": [
           {
            "marker": {
             "colorbar": {
              "outlinewidth": 0,
              "ticks": ""
             }
            },
            "type": "scatterpolar"
           }
          ],
          "scatterpolargl": [
           {
            "marker": {
             "colorbar": {
              "outlinewidth": 0,
              "ticks": ""
             }
            },
            "type": "scatterpolargl"
           }
          ],
          "scatterternary": [
           {
            "marker": {
             "colorbar": {
              "outlinewidth": 0,
              "ticks": ""
             }
            },
            "type": "scatterternary"
           }
          ],
          "surface": [
           {
            "colorbar": {
             "outlinewidth": 0,
             "ticks": ""
            },
            "colorscale": [
             [
              0,
              "#0d0887"
             ],
             [
              0.1111111111111111,
              "#46039f"
             ],
             [
              0.2222222222222222,
              "#7201a8"
             ],
             [
              0.3333333333333333,
              "#9c179e"
             ],
             [
              0.4444444444444444,
              "#bd3786"
             ],
             [
              0.5555555555555556,
              "#d8576b"
             ],
             [
              0.6666666666666666,
              "#ed7953"
             ],
             [
              0.7777777777777778,
              "#fb9f3a"
             ],
             [
              0.8888888888888888,
              "#fdca26"
             ],
             [
              1,
              "#f0f921"
             ]
            ],
            "type": "surface"
           }
          ],
          "table": [
           {
            "cells": {
             "fill": {
              "color": "#EBF0F8"
             },
             "line": {
              "color": "white"
             }
            },
            "header": {
             "fill": {
              "color": "#C8D4E3"
             },
             "line": {
              "color": "white"
             }
            },
            "type": "table"
           }
          ]
         },
         "layout": {
          "annotationdefaults": {
           "arrowcolor": "#2a3f5f",
           "arrowhead": 0,
           "arrowwidth": 1
          },
          "autotypenumbers": "strict",
          "coloraxis": {
           "colorbar": {
            "outlinewidth": 0,
            "ticks": ""
           }
          },
          "colorscale": {
           "diverging": [
            [
             0,
             "#8e0152"
            ],
            [
             0.1,
             "#c51b7d"
            ],
            [
             0.2,
             "#de77ae"
            ],
            [
             0.3,
             "#f1b6da"
            ],
            [
             0.4,
             "#fde0ef"
            ],
            [
             0.5,
             "#f7f7f7"
            ],
            [
             0.6,
             "#e6f5d0"
            ],
            [
             0.7,
             "#b8e186"
            ],
            [
             0.8,
             "#7fbc41"
            ],
            [
             0.9,
             "#4d9221"
            ],
            [
             1,
             "#276419"
            ]
           ],
           "sequential": [
            [
             0,
             "#0d0887"
            ],
            [
             0.1111111111111111,
             "#46039f"
            ],
            [
             0.2222222222222222,
             "#7201a8"
            ],
            [
             0.3333333333333333,
             "#9c179e"
            ],
            [
             0.4444444444444444,
             "#bd3786"
            ],
            [
             0.5555555555555556,
             "#d8576b"
            ],
            [
             0.6666666666666666,
             "#ed7953"
            ],
            [
             0.7777777777777778,
             "#fb9f3a"
            ],
            [
             0.8888888888888888,
             "#fdca26"
            ],
            [
             1,
             "#f0f921"
            ]
           ],
           "sequentialminus": [
            [
             0,
             "#0d0887"
            ],
            [
             0.1111111111111111,
             "#46039f"
            ],
            [
             0.2222222222222222,
             "#7201a8"
            ],
            [
             0.3333333333333333,
             "#9c179e"
            ],
            [
             0.4444444444444444,
             "#bd3786"
            ],
            [
             0.5555555555555556,
             "#d8576b"
            ],
            [
             0.6666666666666666,
             "#ed7953"
            ],
            [
             0.7777777777777778,
             "#fb9f3a"
            ],
            [
             0.8888888888888888,
             "#fdca26"
            ],
            [
             1,
             "#f0f921"
            ]
           ]
          },
          "colorway": [
           "#636efa",
           "#EF553B",
           "#00cc96",
           "#ab63fa",
           "#FFA15A",
           "#19d3f3",
           "#FF6692",
           "#B6E880",
           "#FF97FF",
           "#FECB52"
          ],
          "font": {
           "color": "#2a3f5f"
          },
          "geo": {
           "bgcolor": "white",
           "lakecolor": "white",
           "landcolor": "#E5ECF6",
           "showlakes": true,
           "showland": true,
           "subunitcolor": "white"
          },
          "hoverlabel": {
           "align": "left"
          },
          "hovermode": "closest",
          "mapbox": {
           "style": "light"
          },
          "paper_bgcolor": "white",
          "plot_bgcolor": "#E5ECF6",
          "polar": {
           "angularaxis": {
            "gridcolor": "white",
            "linecolor": "white",
            "ticks": ""
           },
           "bgcolor": "#E5ECF6",
           "radialaxis": {
            "gridcolor": "white",
            "linecolor": "white",
            "ticks": ""
           }
          },
          "scene": {
           "xaxis": {
            "backgroundcolor": "#E5ECF6",
            "gridcolor": "white",
            "gridwidth": 2,
            "linecolor": "white",
            "showbackground": true,
            "ticks": "",
            "zerolinecolor": "white"
           },
           "yaxis": {
            "backgroundcolor": "#E5ECF6",
            "gridcolor": "white",
            "gridwidth": 2,
            "linecolor": "white",
            "showbackground": true,
            "ticks": "",
            "zerolinecolor": "white"
           },
           "zaxis": {
            "backgroundcolor": "#E5ECF6",
            "gridcolor": "white",
            "gridwidth": 2,
            "linecolor": "white",
            "showbackground": true,
            "ticks": "",
            "zerolinecolor": "white"
           }
          },
          "shapedefaults": {
           "line": {
            "color": "#2a3f5f"
           }
          },
          "ternary": {
           "aaxis": {
            "gridcolor": "white",
            "linecolor": "white",
            "ticks": ""
           },
           "baxis": {
            "gridcolor": "white",
            "linecolor": "white",
            "ticks": ""
           },
           "bgcolor": "#E5ECF6",
           "caxis": {
            "gridcolor": "white",
            "linecolor": "white",
            "ticks": ""
           }
          },
          "title": {
           "x": 0.05
          },
          "xaxis": {
           "automargin": true,
           "gridcolor": "white",
           "linecolor": "white",
           "ticks": "",
           "title": {
            "standoff": 15
           },
           "zerolinecolor": "white",
           "zerolinewidth": 2
          },
          "yaxis": {
           "automargin": true,
           "gridcolor": "white",
           "linecolor": "white",
           "ticks": "",
           "title": {
            "standoff": 15
           },
           "zerolinecolor": "white",
           "zerolinewidth": 2
          }
         }
        },
        "title": {
         "text": "Input CV Position in Trained CV Space"
        },
        "width": 900,
        "xaxis": {
         "anchor": "y",
         "domain": [
          0,
          1
         ],
         "title": {
          "text": "t-SNE Dimension 1"
         }
        },
        "yaxis": {
         "anchor": "x",
         "domain": [
          0,
          1
         ],
         "title": {
          "text": "t-SNE Dimension 2"
         }
        }
       }
      },
      "text/html": [
       "<div>            <script src=\"https://cdnjs.cloudflare.com/ajax/libs/mathjax/2.7.5/MathJax.js?config=TeX-AMS-MML_SVG\"></script><script type=\"text/javascript\">if (window.MathJax && window.MathJax.Hub && window.MathJax.Hub.Config) {window.MathJax.Hub.Config({SVG: {font: \"STIX-Web\"}});}</script>                <script type=\"text/javascript\">window.PlotlyConfig = {MathJaxConfig: 'local'};</script>\n",
       "        <script charset=\"utf-8\" src=\"https://cdn.plot.ly/plotly-3.1.0.min.js\" integrity=\"sha256-Ei4740bWZhaUTQuD6q9yQlgVCMPBz6CZWhevDYPv93A=\" crossorigin=\"anonymous\"></script>                <div id=\"10143eb4-27de-4c42-ba3a-7e4b6464efab\" class=\"plotly-graph-div\" style=\"height:700px; width:900px;\"></div>            <script type=\"text/javascript\">                window.PLOTLYENV=window.PLOTLYENV || {};                                if (document.getElementById(\"10143eb4-27de-4c42-ba3a-7e4b6464efab\")) {                    Plotly.newPlot(                        \"10143eb4-27de-4c42-ba3a-7e4b6464efab\",                        [{\"customdata\":[[\"Category: Advocate\\u003cbr\\u003eSimilarity: 0.000\",\"Advocate\"],[\"Category: Advocate\\u003cbr\\u003eSimilarity: 0.000\",\"Advocate\"],[\"Category: Advocate\\u003cbr\\u003eSimilarity: 0.000\",\"Advocate\"],[\"Category: Advocate\\u003cbr\\u003eSimilarity: 0.023\",\"Advocate\"],[\"Category: Advocate\\u003cbr\\u003eSimilarity: 0.022\",\"Advocate\"],[\"Category: Advocate\\u003cbr\\u003eSimilarity: 0.000\",\"Advocate\"],[\"Category: Advocate\\u003cbr\\u003eSimilarity: 0.000\",\"Advocate\"],[\"Category: Advocate\\u003cbr\\u003eSimilarity: 0.000\",\"Advocate\"],[\"Category: Advocate\\u003cbr\\u003eSimilarity: 0.000\",\"Advocate\"],[\"Category: Advocate\\u003cbr\\u003eSimilarity: 0.000\",\"Advocate\"]],\"hovertemplate\":\"size=%{marker.size}\\u003cbr\\u003ehover_text=%{customdata[0]}\\u003cextra\\u003e\\u003c\\u002fextra\\u003e\",\"legendgroup\":\"Advocate\",\"marker\":{\"color\":\"#636efa\",\"opacity\":0.7,\"size\":{\"dtype\":\"f8\",\"bdata\":\"AAAAAAAAFEAAAAAAAAAUQAAAAAAAABRAtQoncmzQFUC4iVvdOcgVQAAAAAAAABRAAAAAAAAAFEAAAAAAAAAUQAAAAAAAABRAAAAAAAAAFEA=\"},\"sizemode\":\"area\",\"sizeref\":0.026921717005445434,\"symbol\":\"circle\"},\"mode\":\"markers\",\"name\":\"Advocate\",\"orientation\":\"v\",\"showlegend\":true,\"x\":{\"dtype\":\"f4\",\"bdata\":\"xnY\\u002fwUavFMF5hjLBOAsewXhBNMF8W17BDtR0QOKuP8EQSzjBx7ZxQA==\"},\"xaxis\":\"x\",\"y\":{\"dtype\":\"f4\",\"bdata\":\"f1xEwI0I5sDWOZ3A+JWqwCBYUsAKXc6\\u002fqG26QPRIn8CqYH3AHqG5QA==\"},\"yaxis\":\"y\",\"type\":\"scatter\"},{\"customdata\":[[\"Category: Arts\\u003cbr\\u003eSimilarity: 0.008\",\"Arts\"],[\"Category: Arts\\u003cbr\\u003eSimilarity: 0.000\",\"Arts\"],[\"Category: Arts\\u003cbr\\u003eSimilarity: 0.023\",\"Arts\"],[\"Category: Arts\\u003cbr\\u003eSimilarity: 0.000\",\"Arts\"],[\"Category: Arts\\u003cbr\\u003eSimilarity: 0.000\",\"Arts\"],[\"Category: Arts\\u003cbr\\u003eSimilarity: 0.012\",\"Arts\"]],\"hovertemplate\":\"size=%{marker.size}\\u003cbr\\u003ehover_text=%{customdata[0]}\\u003cextra\\u003e\\u003c\\u002fextra\\u003e\",\"legendgroup\":\"Arts\",\"marker\":{\"color\":\"#EF553B\",\"opacity\":0.7,\"size\":{\"dtype\":\"f8\",\"bdata\":\"y8Sm2umiFEAAAAAAAAAUQGGYGvMA0BVAAAAAAAAAFEAAAAAAAAAUQKg9gVNI7hRA\"},\"sizemode\":\"area\",\"sizeref\":0.026921717005445434,\"symbol\":\"circle\"},\"mode\":\"markers\",\"name\":\"Arts\",\"orientation\":\"v\",\"showlegend\":true,\"x\":{\"dtype\":\"f4\",\"bdata\":\"QZVtQLN1lUBA2\\u002fY\\u002f0PlNQExTUT8\\u002faodA\"},\"xaxis\":\"x\",\"y\":{\"dtype\":\"f4\",\"bdata\":\"6QNevrG6DUHG2xJBV1QWQacGeUEiSRBB\"},\"yaxis\":\"y\",\"type\":\"scatter\"},{\"customdata\":[[\"Category: Automation Testing\\u003cbr\\u003eSimilarity: 0.031\",\"Automation Testing\"],[\"Category: Automation Testing\\u003cbr\\u003eSimilarity: 0.010\",\"Automation Testing\"],[\"Category: Automation Testing\\u003cbr\\u003eSimilarity: 0.056\",\"Automation Testing\"],[\"Category: Automation Testing\\u003cbr\\u003eSimilarity: 0.045\",\"Automation Testing\"],[\"Category: Automation Testing\\u003cbr\\u003eSimilarity: 0.037\",\"Automation Testing\"],[\"Category: Automation Testing\\u003cbr\\u003eSimilarity: 0.026\",\"Automation Testing\"],[\"Category: Automation Testing\\u003cbr\\u003eSimilarity: 0.008\",\"Automation Testing\"]],\"hovertemplate\":\"size=%{marker.size}\\u003cbr\\u003ehover_text=%{customdata[0]}\\u003cextra\\u003e\\u003c\\u002fextra\\u003e\",\"legendgroup\":\"Automation Testing\",\"marker\":{\"color\":\"#00cc96\",\"opacity\":0.7,\"size\":{\"dtype\":\"f8\",\"bdata\":\"w36qk2OCFkC37TJ4cNUUQNQbz7yodBhAC5n\\u002fryqfF0BEwL3L1PAWQF5y6LjpFRZAM846RhuiFEA=\"},\"sizemode\":\"area\",\"sizeref\":0.026921717005445434,\"symbol\":\"circle\"},\"mode\":\"markers\",\"name\":\"Automation Testing\",\"orientation\":\"v\",\"showlegend\":true,\"x\":{\"dtype\":\"f4\",\"bdata\":\"9j0fwH9wrcCh0EvAI8tXwO4rjcBVqlrAi9Q0wA==\"},\"xaxis\":\"x\",\"y\":{\"dtype\":\"f4\",\"bdata\":\"XCKqP3ltA0Hnkbi9JNIGQB\\u002fSGT9BFpo\\u002f6blWvw==\"},\"yaxis\":\"y\",\"type\":\"scatter\"},{\"customdata\":[[\"Category: Blockchain\\u003cbr\\u003eSimilarity: 0.009\",\"Blockchain\"],[\"Category: Blockchain\\u003cbr\\u003eSimilarity: 0.019\",\"Blockchain\"],[\"Category: Blockchain\\u003cbr\\u003eSimilarity: 0.033\",\"Blockchain\"],[\"Category: Blockchain\\u003cbr\\u003eSimilarity: 0.042\",\"Blockchain\"],[\"Category: Blockchain\\u003cbr\\u003eSimilarity: 0.087\",\"Blockchain\"]],\"hovertemplate\":\"size=%{marker.size}\\u003cbr\\u003ehover_text=%{customdata[0]}\\u003cextra\\u003e\\u003c\\u002fextra\\u003e\",\"legendgroup\":\"Blockchain\",\"marker\":{\"color\":\"#ab63fa\",\"opacity\":0.7,\"size\":{\"dtype\":\"f8\",\"bdata\":\"kJZEUeCyFEC7EjQxZn8VQC3AMGCsqRZATnfakGJXF0DGzUWCxPYaQA==\"},\"sizemode\":\"area\",\"sizeref\":0.026921717005445434,\"symbol\":\"circle\"},\"mode\":\"markers\",\"name\":\"Blockchain\",\"orientation\":\"v\",\"showlegend\":true,\"x\":{\"dtype\":\"f4\",\"bdata\":\"ecOVwJ6jksDJ4YjAUVaVwGdVRMA=\"},\"xaxis\":\"x\",\"y\":{\"dtype\":\"f4\",\"bdata\":\"TPAwwUNIRcEJZSnB72hIwTE8MME=\"},\"yaxis\":\"y\",\"type\":\"scatter\"},{\"customdata\":[[\"Category: Business Analyst\\u003cbr\\u003eSimilarity: 0.026\",\"Business Analyst\"],[\"Category: Business Analyst\\u003cbr\\u003eSimilarity: 0.014\",\"Business Analyst\"],[\"Category: Business Analyst\\u003cbr\\u003eSimilarity: 0.050\",\"Business Analyst\"],[\"Category: Business Analyst\\u003cbr\\u003eSimilarity: 0.032\",\"Business Analyst\"],[\"Category: Business Analyst\\u003cbr\\u003eSimilarity: 0.000\",\"Business Analyst\"],[\"Category: Business Analyst\\u003cbr\\u003eSimilarity: 0.003\",\"Business Analyst\"]],\"hovertemplate\":\"size=%{marker.size}\\u003cbr\\u003ehover_text=%{customdata[0]}\\u003cextra\\u003e\\u003c\\u002fextra\\u003e\",\"legendgroup\":\"Business Analyst\",\"marker\":{\"color\":\"#FFA15A\",\"opacity\":0.7,\"size\":{\"dtype\":\"f8\",\"bdata\":\"71DgzTkXFkBS0zXMVyIVQL5MzLo9+BdAagQz7XaVFkAAAAAAAAAUQNEnuEGfQxRA\"},\"sizemode\":\"area\",\"sizeref\":0.026921717005445434,\"symbol\":\"circle\"},\"mode\":\"markers\",\"name\":\"Business Analyst\",\"orientation\":\"v\",\"showlegend\":true,\"x\":{\"dtype\":\"f4\",\"bdata\":\"rwEJv26Id78DuLS\\u002f7\\u002fnPv\\u002f+7rD8wORfA\"},\"xaxis\":\"x\",\"y\":{\"dtype\":\"f4\",\"bdata\":\"D5ZQQL0Ej0A+eUBAhvZGQDC3Z0CxdqRA\"},\"yaxis\":\"y\",\"type\":\"scatter\"},{\"customdata\":[[\"Category: Civil Engineer\\u003cbr\\u003eSimilarity: 0.004\",\"Civil Engineer\"],[\"Category: Civil Engineer\\u003cbr\\u003eSimilarity: 0.000\",\"Civil Engineer\"],[\"Category: Civil Engineer\\u003cbr\\u003eSimilarity: 0.006\",\"Civil Engineer\"],[\"Category: Civil Engineer\\u003cbr\\u003eSimilarity: 0.000\",\"Civil Engineer\"],[\"Category: Civil Engineer\\u003cbr\\u003eSimilarity: 0.010\",\"Civil Engineer\"],[\"Category: Civil Engineer\\u003cbr\\u003eSimilarity: 0.013\",\"Civil Engineer\"]],\"hovertemplate\":\"size=%{marker.size}\\u003cbr\\u003ehover_text=%{customdata[0]}\\u003cextra\\u003e\\u003c\\u002fextra\\u003e\",\"legendgroup\":\"Civil Engineer\",\"marker\":{\"color\":\"#19d3f3\",\"opacity\":0.7,\"size\":{\"dtype\":\"f8\",\"bdata\":\"SSRblodUFEAAAAAAAAAUQPTbNBoQcRRAAAAAAAAAFEC7X1CgWc0UQOqw0qNFBhVA\"},\"sizemode\":\"area\",\"sizeref\":0.026921717005445434,\"symbol\":\"circle\"},\"mode\":\"markers\",\"name\":\"Civil Engineer\",\"orientation\":\"v\",\"showlegend\":true,\"x\":{\"dtype\":\"f4\",\"bdata\":\"9EgPwVjvOMGbAiXBI1sVwSOVLMEZ0D3B\"},\"xaxis\":\"x\",\"y\":{\"dtype\":\"f4\",\"bdata\":\"IyULQV3LAEGS7gVBfiwFQfYE+EAGIfNA\"},\"yaxis\":\"y\",\"type\":\"scatter\"},{\"customdata\":[[\"Category: Data Science\\u003cbr\\u003eSimilarity: 0.128\",\"Data Science\"],[\"Category: Data Science\\u003cbr\\u003eSimilarity: 0.103\",\"Data Science\"],[\"Category: Data Science\\u003cbr\\u003eSimilarity: 0.143\",\"Data Science\"],[\"Category: Data Science\\u003cbr\\u003eSimilarity: 0.072\",\"Data Science\"],[\"Category: Data Science\\u003cbr\\u003eSimilarity: 0.102\",\"Data Science\"],[\"Category: Data Science\\u003cbr\\u003eSimilarity: 0.133\",\"Data Science\"],[\"Category: Data Science\\u003cbr\\u003eSimilarity: 0.216\",\"Data Science\"],[\"Category: Data Science\\u003cbr\\u003eSimilarity: 0.288\",\"Data Science\"],[\"Category: Data Science\\u003cbr\\u003eSimilarity: 0.202\",\"Data Science\"],[\"Category: Data Science\\u003cbr\\u003eSimilarity: 0.188\",\"Data Science\"]],\"hovertemplate\":\"size=%{marker.size}\\u003cbr\\u003ehover_text=%{customdata[0]}\\u003cextra\\u003e\\u003c\\u002fextra\\u003e\",\"legendgroup\":\"Data Science\",\"marker\":{\"color\":\"#FF6692\",\"opacity\":0.7,\"size\":{\"dtype\":\"f8\",\"bdata\":\"gluB7tI7HkCEutuY2jMcQBDsB0ylcx9A40v\\u002f7Ty6GUBpmXe9RDIcQBxTV8tDnB5Ab186e2egIkC0cQhRkYklQA97FpNkGCJAjMomMgaEIUA=\"},\"sizemode\":\"area\",\"sizeref\":0.026921717005445434,\"symbol\":\"circle\"},\"mode\":\"markers\",\"name\":\"Data Science\",\"orientation\":\"v\",\"showlegend\":true,\"x\":{\"dtype\":\"f4\",\"bdata\":\"VRhkQOtFrT6LEGs\\u002fx1EuQT0LhT7dwKs\\u002fLhxuQI\\u002f3nEAXgJhAAY14QA==\"},\"xaxis\":\"x\",\"y\":{\"dtype\":\"f4\",\"bdata\":\"PKvfwLe4CcHirgPBcszvQGk+FcGujBHBt3sEwQgk0MASqMPAnF0DwQ==\"},\"yaxis\":\"y\",\"type\":\"scatter\"},{\"customdata\":[[\"Category: Database\\u003cbr\\u003eSimilarity: 0.006\",\"Database\"],[\"Category: Database\\u003cbr\\u003eSimilarity: 0.013\",\"Database\"],[\"Category: Database\\u003cbr\\u003eSimilarity: 0.007\",\"Database\"],[\"Category: Database\\u003cbr\\u003eSimilarity: 0.013\",\"Database\"],[\"Category: Database\\u003cbr\\u003eSimilarity: 0.007\",\"Database\"],[\"Category: Database\\u003cbr\\u003eSimilarity: 0.051\",\"Database\"],[\"Category: Database\\u003cbr\\u003eSimilarity: 0.020\",\"Database\"],[\"Category: Database\\u003cbr\\u003eSimilarity: 0.008\",\"Database\"],[\"Category: Database\\u003cbr\\u003eSimilarity: 0.032\",\"Database\"],[\"Category: Database\\u003cbr\\u003eSimilarity: 0.008\",\"Database\"],[\"Category: Database\\u003cbr\\u003eSimilarity: 0.120\",\"Database\"]],\"hovertemplate\":\"size=%{marker.size}\\u003cbr\\u003ehover_text=%{customdata[0]}\\u003cextra\\u003e\\u003c\\u002fextra\\u003e\",\"legendgroup\":\"Database\",\"marker\":{\"color\":\"#B6E880\",\"opacity\":0.7,\"size\":{\"dtype\":\"f8\",\"bdata\":\"iBQKLpJyFECinAiU4wsVQHaZ\\u002fFjxlhRAolZRUv0CFUCiZ5ESFZgUQC0zWxe1HBhA+1s15\\u002fGWFUACRbJMcKEUQPlU863xhhZA4QDCDOCcFECOtkRTXJIdQA==\"},\"sizemode\":\"area\",\"sizeref\":0.026921717005445434,\"symbol\":\"circle\"},\"mode\":\"markers\",\"name\":\"Database\",\"orientation\":\"v\",\"showlegend\":true,\"x\":{\"dtype\":\"f4\",\"bdata\":\"2mgJQYmoEEGgIAtBDroaQSX85kB8rSVBiaIOQbX2A0GYkAhBPlcaQYL5nUA=\"},\"xaxis\":\"x\",\"y\":{\"dtype\":\"f4\",\"bdata\":\"xPREwXgcUcH4dl7B7+MswSlRPMENaijBD80lwRnRU8ELBhvBdX8fwS3GC8E=\"},\"yaxis\":\"y\",\"type\":\"scatter\"},{\"customdata\":[[\"Category: DevOps Engineer\\u003cbr\\u003eSimilarity: 0.075\",\"DevOps Engineer\"],[\"Category: DevOps Engineer\\u003cbr\\u003eSimilarity: 0.028\",\"DevOps Engineer\"],[\"Category: DevOps Engineer\\u003cbr\\u003eSimilarity: 0.020\",\"DevOps Engineer\"],[\"Category: DevOps Engineer\\u003cbr\\u003eSimilarity: 0.078\",\"DevOps Engineer\"],[\"Category: DevOps Engineer\\u003cbr\\u003eSimilarity: 0.029\",\"DevOps Engineer\"],[\"Category: DevOps Engineer\\u003cbr\\u003eSimilarity: 0.026\",\"DevOps Engineer\"],[\"Category: DevOps Engineer\\u003cbr\\u003eSimilarity: 0.030\",\"DevOps Engineer\"]],\"hovertemplate\":\"size=%{marker.size}\\u003cbr\\u003ehover_text=%{customdata[0]}\\u003cextra\\u003e\\u003c\\u002fextra\\u003e\",\"legendgroup\":\"DevOps Engineer\",\"marker\":{\"color\":\"#FF97FF\",\"opacity\":0.7,\"size\":{\"dtype\":\"f8\",\"bdata\":\"UQEAZSECGkDKxECNDUcWQLs2cPdeoRVAHEtRMq04GkCb+2o5FlcWQBDZL0nfDBZApoGqIF9tFkA=\"},\"sizemode\":\"area\",\"sizeref\":0.026921717005445434,\"symbol\":\"circle\"},\"mode\":\"markers\",\"name\":\"DevOps Engineer\",\"orientation\":\"v\",\"showlegend\":true,\"x\":{\"dtype\":\"f4\",\"bdata\":\"rW61QEqxGDwtaqRA+3QhQZXC2L5qu9S\\u002fQbt1wA==\"},\"xaxis\":\"x\",\"y\":{\"dtype\":\"f4\",\"bdata\":\"tCA3wYA33sBPazTBl4CywGLLyEANTdZA5pszQA==\"},\"yaxis\":\"y\",\"type\":\"scatter\"},{\"customdata\":[[\"Category: DotNet Developer\\u003cbr\\u003eSimilarity: 0.026\",\"DotNet Developer\"],[\"Category: DotNet Developer\\u003cbr\\u003eSimilarity: 0.013\",\"DotNet Developer\"],[\"Category: DotNet Developer\\u003cbr\\u003eSimilarity: 0.028\",\"DotNet Developer\"],[\"Category: DotNet Developer\\u003cbr\\u003eSimilarity: 0.168\",\"DotNet Developer\"],[\"Category: DotNet Developer\\u003cbr\\u003eSimilarity: 0.032\",\"DotNet Developer\"],[\"Category: DotNet Developer\\u003cbr\\u003eSimilarity: 0.033\",\"DotNet Developer\"],[\"Category: DotNet Developer\\u003cbr\\u003eSimilarity: 0.028\",\"DotNet Developer\"]],\"hovertemplate\":\"size=%{marker.size}\\u003cbr\\u003ehover_text=%{customdata[0]}\\u003cextra\\u003e\\u003c\\u002fextra\\u003e\",\"legendgroup\":\"DotNet Developer\",\"marker\":{\"color\":\"#FECB52\",\"opacity\":0.7,\"size\":{\"dtype\":\"f8\",\"bdata\":\"GO9J3+MOFkA2P\\u002fF7ZwcVQKp3N9zWRhZAhaiFO2a5IECY0nGh25MWQF24gxXonxZAisxuw8pCFkA=\"},\"sizemode\":\"area\",\"sizeref\":0.026921717005445434,\"symbol\":\"circle\"},\"mode\":\"markers\",\"name\":\"DotNet Developer\",\"orientation\":\"v\",\"showlegend\":true,\"x\":{\"dtype\":\"f4\",\"bdata\":\"mIAVQWhp10ALiwJBv8rUQOrSFUHQzgVBGwsQQQ==\"},\"xaxis\":\"x\",\"y\":{\"dtype\":\"f4\",\"bdata\":\"bo1swFzHNcChp3jAMR8ZwHG3n8ABq5nAuiaJwA==\"},\"yaxis\":\"y\",\"type\":\"scatter\"},{\"customdata\":[[\"Category: ETL Developer\\u003cbr\\u003eSimilarity: 0.030\",\"ETL Developer\"],[\"Category: ETL Developer\\u003cbr\\u003eSimilarity: 0.035\",\"ETL Developer\"],[\"Category: ETL Developer\\u003cbr\\u003eSimilarity: 0.039\",\"ETL Developer\"],[\"Category: ETL Developer\\u003cbr\\u003eSimilarity: 0.050\",\"ETL Developer\"],[\"Category: ETL Developer\\u003cbr\\u003eSimilarity: 0.030\",\"ETL Developer\"]],\"hovertemplate\":\"size=%{marker.size}\\u003cbr\\u003ehover_text=%{customdata[0]}\\u003cextra\\u003e\\u003c\\u002fextra\\u003e\",\"legendgroup\":\"ETL Developer\",\"marker\":{\"color\":\"#636efa\",\"opacity\":0.7,\"size\":{\"dtype\":\"f8\",\"bdata\":\"uWb1rqZuFkDyqjUXqcoWQDwqwCNEKBdASMWuTVsGGEBen7U+5GEWQA==\"},\"sizemode\":\"area\",\"sizeref\":0.026921717005445434,\"symbol\":\"circle\"},\"mode\":\"markers\",\"name\":\"ETL Developer\",\"orientation\":\"v\",\"showlegend\":true,\"x\":{\"dtype\":\"f4\",\"bdata\":\"7JIyQbJ1OkG\\u002f7zZB\\u002fPYtQRCcJ0E=\"},\"xaxis\":\"x\",\"y\":{\"dtype\":\"f4\",\"bdata\":\"7nXWP3bkhD+ktiQ\\u002fOqAlQFm1JD4=\"},\"yaxis\":\"y\",\"type\":\"scatter\"},{\"customdata\":[[\"Category: Electrical Engineering\\u003cbr\\u003eSimilarity: 0.017\",\"Electrical Engineering\"],[\"Category: Electrical Engineering\\u003cbr\\u003eSimilarity: 0.000\",\"Electrical Engineering\"],[\"Category: Electrical Engineering\\u003cbr\\u003eSimilarity: 0.020\",\"Electrical Engineering\"],[\"Category: Electrical Engineering\\u003cbr\\u003eSimilarity: 0.013\",\"Electrical Engineering\"],[\"Category: Electrical Engineering\\u003cbr\\u003eSimilarity: 0.029\",\"Electrical Engineering\"]],\"hovertemplate\":\"size=%{marker.size}\\u003cbr\\u003ehover_text=%{customdata[0]}\\u003cextra\\u003e\\u003c\\u002fextra\\u003e\",\"legendgroup\":\"Electrical Engineering\",\"marker\":{\"color\":\"#EF553B\",\"opacity\":0.7,\"size\":{\"dtype\":\"f8\",\"bdata\":\"hincSBJSFUAAAAAAAAAUQJssXKk1ohVABAJbbdUQFUDj9PQb1VUWQA==\"},\"sizemode\":\"area\",\"sizeref\":0.026921717005445434,\"symbol\":\"circle\"},\"mode\":\"markers\",\"name\":\"Electrical Engineering\",\"orientation\":\"v\",\"showlegend\":true,\"x\":{\"dtype\":\"f4\",\"bdata\":\"bGizwPtnz0BhQLbAfI60wGVzxMA=\"},\"xaxis\":\"x\",\"y\":{\"dtype\":\"f4\",\"bdata\":\"OdnEQKX0jD8Ph+pAa++rQDGa1kA=\"},\"yaxis\":\"y\",\"type\":\"scatter\"},{\"customdata\":[[\"Category: HR\\u003cbr\\u003eSimilarity: 0.000\",\"HR\"],[\"Category: HR\\u003cbr\\u003eSimilarity: 0.016\",\"HR\"],[\"Category: HR\\u003cbr\\u003eSimilarity: 0.000\",\"HR\"],[\"Category: HR\\u003cbr\\u003eSimilarity: 0.000\",\"HR\"],[\"Category: HR\\u003cbr\\u003eSimilarity: 0.000\",\"HR\"],[\"Category: HR\\u003cbr\\u003eSimilarity: 0.000\",\"HR\"],[\"Category: HR\\u003cbr\\u003eSimilarity: 0.009\",\"HR\"],[\"Category: HR\\u003cbr\\u003eSimilarity: 0.000\",\"HR\"],[\"Category: HR\\u003cbr\\u003eSimilarity: 0.008\",\"HR\"],[\"Category: HR\\u003cbr\\u003eSimilarity: 0.025\",\"HR\"]],\"hovertemplate\":\"size=%{marker.size}\\u003cbr\\u003ehover_text=%{customdata[0]}\\u003cextra\\u003e\\u003c\\u002fextra\\u003e\",\"legendgroup\":\"HR\",\"marker\":{\"color\":\"#00cc96\",\"opacity\":0.7,\"size\":{\"dtype\":\"f8\",\"bdata\":\"AAAAAAAAFECxBo03KkEVQAAAAAAAABRAAAAAAAAAFEAAAAAAAAAUQAAAAAAAABRALXnpYICvFEAAAAAAAAAUQNpL66o+mxRACKLmXo76FUA=\"},\"sizemode\":\"area\",\"sizeref\":0.026921717005445434,\"symbol\":\"circle\"},\"mode\":\"markers\",\"name\":\"HR\",\"orientation\":\"v\",\"showlegend\":true,\"x\":{\"dtype\":\"f4\",\"bdata\":\"xdhtQfphAsDQSy3BK0xiwfh6LcEI+G1BCAH7wBIU4EDCvOfAVaDhwA==\"},\"xaxis\":\"x\",\"y\":{\"dtype\":\"f4\",\"bdata\":\"v\\u002fSKwCpsAUHD\\u002fTnBlzyvv8knOsFioIrAJMPtwAvMej9v+lS\\u002f1\\u002fLpwA==\"},\"yaxis\":\"y\",\"type\":\"scatter\"},{\"customdata\":[[\"Category: Hadoop\\u003cbr\\u003eSimilarity: 0.065\",\"Hadoop\"],[\"Category: Hadoop\\u003cbr\\u003eSimilarity: 0.029\",\"Hadoop\"],[\"Category: Hadoop\\u003cbr\\u003eSimilarity: 0.056\",\"Hadoop\"],[\"Category: Hadoop\\u003cbr\\u003eSimilarity: 0.073\",\"Hadoop\"],[\"Category: Hadoop\\u003cbr\\u003eSimilarity: 0.064\",\"Hadoop\"],[\"Category: Hadoop\\u003cbr\\u003eSimilarity: 0.027\",\"Hadoop\"],[\"Category: Hadoop\\u003cbr\\u003eSimilarity: 0.050\",\"Hadoop\"]],\"hovertemplate\":\"size=%{marker.size}\\u003cbr\\u003ehover_text=%{customdata[0]}\\u003cextra\\u003e\\u003c\\u002fextra\\u003e\",\"legendgroup\":\"Hadoop\",\"marker\":{\"color\":\"#ab63fa\",\"opacity\":0.7,\"size\":{\"dtype\":\"f8\",\"bdata\":\"VAjEBgkvGUA4ISqMlFYWQK6yfJvBgxhAPEArQ0raGUBWe+afgiAZQFuIRF\\u002fnHxZAoxWFtiIAGEA=\"},\"sizemode\":\"area\",\"sizeref\":0.026921717005445434,\"symbol\":\"circle\"},\"mode\":\"markers\",\"name\":\"Hadoop\",\"orientation\":\"v\",\"showlegend\":true,\"x\":{\"dtype\":\"f4\",\"bdata\":\"Cwh\\u002fQTOsgkHAY3ZBEWhpQShAb0EbmHpBnlBrQQ==\"},\"xaxis\":\"x\",\"y\":{\"dtype\":\"f4\",\"bdata\":\"z+s5QAS8d0C5RlVAFINAQIMVd0D2D5hAA2YIQA==\"},\"yaxis\":\"y\",\"type\":\"scatter\"},{\"customdata\":[[\"Category: Health and fitness\\u003cbr\\u003eSimilarity: 0.000\",\"Health and fitness\"],[\"Category: Health and fitness\\u003cbr\\u003eSimilarity: 0.042\",\"Health and fitness\"],[\"Category: Health and fitness\\u003cbr\\u003eSimilarity: 0.000\",\"Health and fitness\"],[\"Category: Health and fitness\\u003cbr\\u003eSimilarity: 0.005\",\"Health and fitness\"],[\"Category: Health and fitness\\u003cbr\\u003eSimilarity: 0.000\",\"Health and fitness\"],[\"Category: Health and fitness\\u003cbr\\u003eSimilarity: 0.019\",\"Health and fitness\"]],\"hovertemplate\":\"size=%{marker.size}\\u003cbr\\u003ehover_text=%{customdata[0]}\\u003cextra\\u003e\\u003c\\u002fextra\\u003e\",\"legendgroup\":\"Health and fitness\",\"marker\":{\"color\":\"#FFA15A\",\"opacity\":0.7,\"size\":{\"dtype\":\"f8\",\"bdata\":\"AAAAAAAAFEBCQ5NimGAXQAAAAAAAABRAuCVF7INkFEAAAAAAAAAUQN1Uy9m3hBVA\"},\"sizemode\":\"area\",\"sizeref\":0.026921717005445434,\"symbol\":\"circle\"},\"mode\":\"markers\",\"name\":\"Health and fitness\",\"orientation\":\"v\",\"showlegend\":true,\"x\":{\"dtype\":\"f4\",\"bdata\":\"VZh0PzILW0BIoE4\\u002fKY6YP\\u002fgFkUBDU3VA\"},\"xaxis\":\"x\",\"y\":{\"dtype\":\"f4\",\"bdata\":\"IIhsQWUCWUGkt1tBlT5fQdbCTUE8S1VB\"},\"yaxis\":\"y\",\"type\":\"scatter\"},{\"customdata\":[[\"Category: Java Developer\\u003cbr\\u003eSimilarity: 0.025\",\"Java Developer\"],[\"Category: Java Developer\\u003cbr\\u003eSimilarity: 0.023\",\"Java Developer\"],[\"Category: Java Developer\\u003cbr\\u003eSimilarity: 0.058\",\"Java Developer\"],[\"Category: Java Developer\\u003cbr\\u003eSimilarity: 0.039\",\"Java Developer\"],[\"Category: Java Developer\\u003cbr\\u003eSimilarity: 0.039\",\"Java Developer\"],[\"Category: Java Developer\\u003cbr\\u003eSimilarity: 0.019\",\"Java Developer\"],[\"Category: Java Developer\\u003cbr\\u003eSimilarity: 0.013\",\"Java Developer\"],[\"Category: Java Developer\\u003cbr\\u003eSimilarity: 0.048\",\"Java Developer\"],[\"Category: Java Developer\\u003cbr\\u003eSimilarity: 0.032\",\"Java Developer\"],[\"Category: Java Developer\\u003cbr\\u003eSimilarity: 0.063\",\"Java Developer\"],[\"Category: Java Developer\\u003cbr\\u003eSimilarity: 0.030\",\"Java Developer\"],[\"Category: Java Developer\\u003cbr\\u003eSimilarity: 0.036\",\"Java Developer\"],[\"Category: Java Developer\\u003cbr\\u003eSimilarity: 0.043\",\"Java Developer\"]],\"hovertemplate\":\"size=%{marker.size}\\u003cbr\\u003ehover_text=%{customdata[0]}\\u003cextra\\u003e\\u003c\\u002fextra\\u003e\",\"legendgroup\":\"Java Developer\",\"marker\":{\"color\":\"#19d3f3\",\"opacity\":0.7,\"size\":{\"dtype\":\"f8\",\"bdata\":\"UpI7DMQEFkDi6cJ3cNkVQNg9dB\\u002fXoxhAxNN63dQaF0C4LCxUlBYXQF0\\u002fsxbfiBVAD1BFGuYKFUALPGlz8dAXQI6aGTYWkRZARJN6FroJGUB1fuw3KG0WQDtbaivU5BZAQYFEkHF6F0A=\"},\"sizemode\":\"area\",\"sizeref\":0.026921717005445434,\"symbol\":\"circle\"},\"mode\":\"markers\",\"name\":\"Java Developer\",\"orientation\":\"v\",\"showlegend\":true,\"x\":{\"dtype\":\"f4\",\"bdata\":\"AG8gwFCNQ8CkXMK\\u002fBMdVv6NBhsDH8sS\\u002fFzETwCnLbMDglCTAa6SEwMjleMBzXa\\u002fAFQOavw==\"},\"xaxis\":\"x\",\"y\":{\"dtype\":\"f4\",\"bdata\":\"8UyOwHJTKcC98lHATWqDwAcZcsAHesnALYrPwNtfn8Dj6rXAPuW5wKgQzsCUrcrATGCZwA==\"},\"yaxis\":\"y\",\"type\":\"scatter\"},{\"customdata\":[[\"Category: Mechanical Engineer\\u003cbr\\u003eSimilarity: 0.021\",\"Mechanical Engineer\"],[\"Category: Mechanical Engineer\\u003cbr\\u003eSimilarity: 0.068\",\"Mechanical Engineer\"],[\"Category: Mechanical Engineer\\u003cbr\\u003eSimilarity: 0.000\",\"Mechanical Engineer\"],[\"Category: Mechanical Engineer\\u003cbr\\u003eSimilarity: 0.006\",\"Mechanical Engineer\"],[\"Category: Mechanical Engineer\\u003cbr\\u003eSimilarity: 0.047\",\"Mechanical Engineer\"]],\"hovertemplate\":\"size=%{marker.size}\\u003cbr\\u003ehover_text=%{customdata[0]}\\u003cextra\\u003e\\u003c\\u002fextra\\u003e\",\"legendgroup\":\"Mechanical Engineer\",\"marker\":{\"color\":\"#FF6692\",\"opacity\":0.7,\"size\":{\"dtype\":\"f8\",\"bdata\":\"LrRp+aWkFUDUn1rccm4ZQAAAAAAAABRAwhxyjrWEFED61rDZMsYXQA==\"},\"sizemode\":\"area\",\"sizeref\":0.026921717005445434,\"symbol\":\"circle\"},\"mode\":\"markers\",\"name\":\"Mechanical Engineer\",\"orientation\":\"v\",\"showlegend\":true,\"x\":{\"dtype\":\"f4\",\"bdata\":\"eWEywGWqfUAOE6dARbSXQCkGikA=\"},\"xaxis\":\"x\",\"y\":{\"dtype\":\"f4\",\"bdata\":\"hDUdQfrKeT8fbE1AipxDQMAqO0A=\"},\"yaxis\":\"y\",\"type\":\"scatter\"},{\"customdata\":[[\"Category: Network Security Engineer\\u003cbr\\u003eSimilarity: 0.005\",\"Network Security Engineer\"],[\"Category: Network Security Engineer\\u003cbr\\u003eSimilarity: 0.003\",\"Network Security Engineer\"],[\"Category: Network Security Engineer\\u003cbr\\u003eSimilarity: 0.014\",\"Network Security Engineer\"],[\"Category: Network Security Engineer\\u003cbr\\u003eSimilarity: 0.019\",\"Network Security Engineer\"],[\"Category: Network Security Engineer\\u003cbr\\u003eSimilarity: 0.002\",\"Network Security Engineer\"]],\"hovertemplate\":\"size=%{marker.size}\\u003cbr\\u003ehover_text=%{customdata[0]}\\u003cextra\\u003e\\u003c\\u002fextra\\u003e\",\"legendgroup\":\"Network Security Engineer\",\"marker\":{\"color\":\"#B6E880\",\"opacity\":0.7,\"size\":{\"dtype\":\"f8\",\"bdata\":\"iu7ujxVnFEAKoXzjyzUUQJE7gHrcHBVAh1Eye1+OFUBb7kGuoi8UQA==\"},\"sizemode\":\"area\",\"sizeref\":0.026921717005445434,\"symbol\":\"circle\"},\"mode\":\"markers\",\"name\":\"Network Security Engineer\",\"orientation\":\"v\",\"showlegend\":true,\"x\":{\"dtype\":\"f4\",\"bdata\":\"vI2vP7HMYD\\u002fGx8U\\u002f9s7oP\\u002f4qKEA=\"},\"xaxis\":\"x\",\"y\":{\"dtype\":\"f4\",\"bdata\":\"xk1YwSJRRsG2smvBF4Vhwa+rY8E=\"},\"yaxis\":\"y\",\"type\":\"scatter\"},{\"customdata\":[[\"Category: Operations Manager\\u003cbr\\u003eSimilarity: 0.015\",\"Operations Manager\"],[\"Category: Operations Manager\\u003cbr\\u003eSimilarity: 0.022\",\"Operations Manager\"],[\"Category: Operations Manager\\u003cbr\\u003eSimilarity: 0.008\",\"Operations Manager\"],[\"Category: Operations Manager\\u003cbr\\u003eSimilarity: 0.016\",\"Operations Manager\"]],\"hovertemplate\":\"size=%{marker.size}\\u003cbr\\u003ehover_text=%{customdata[0]}\\u003cextra\\u003e\\u003c\\u002fextra\\u003e\",\"legendgroup\":\"Operations Manager\",\"marker\":{\"color\":\"#FF97FF\",\"opacity\":0.7,\"size\":{\"dtype\":\"f8\",\"bdata\":\"8Aaz24w7FUDWMNrsPcIVQKjHnfYtoRRAaHGEmiZJFUA=\"},\"sizemode\":\"area\",\"sizeref\":0.026921717005445434,\"symbol\":\"circle\"},\"mode\":\"markers\",\"name\":\"Operations Manager\",\"orientation\":\"v\",\"showlegend\":true,\"x\":{\"dtype\":\"f4\",\"bdata\":\"mYe+vpmDPr+l4Km\\u002f9cp9wA==\"},\"xaxis\":\"x\",\"y\":{\"dtype\":\"f4\",\"bdata\":\"bScFQUAuEkH8ch5BtlYKQQ==\"},\"yaxis\":\"y\",\"type\":\"scatter\"},{\"customdata\":[[\"Category: PMO\\u003cbr\\u003eSimilarity: 0.036\",\"PMO\"],[\"Category: PMO\\u003cbr\\u003eSimilarity: 0.013\",\"PMO\"],[\"Category: PMO\\u003cbr\\u003eSimilarity: 0.011\",\"PMO\"]],\"hovertemplate\":\"size=%{marker.size}\\u003cbr\\u003ehover_text=%{customdata[0]}\\u003cextra\\u003e\\u003c\\u002fextra\\u003e\",\"legendgroup\":\"PMO\",\"marker\":{\"color\":\"#FECB52\",\"opacity\":0.7,\"size\":{\"dtype\":\"f8\",\"bdata\":\"b9LXfvrkFkAKr44gNwsVQE2MrbD04BRA\"},\"sizemode\":\"area\",\"sizeref\":0.026921717005445434,\"symbol\":\"circle\"},\"mode\":\"markers\",\"name\":\"PMO\",\"orientation\":\"v\",\"showlegend\":true,\"x\":{\"dtype\":\"f4\",\"bdata\":\"sx0OPu8Wjb7pYR8\\u002f\"},\"xaxis\":\"x\",\"y\":{\"dtype\":\"f4\",\"bdata\":\"vgvaQF7E5kC2hrlA\"},\"yaxis\":\"y\",\"type\":\"scatter\"},{\"customdata\":[[\"Category: Python Developer\\u003cbr\\u003eSimilarity: 0.108\",\"Python Developer\"],[\"Category: Python Developer\\u003cbr\\u003eSimilarity: 0.063\",\"Python Developer\"],[\"Category: Python Developer\\u003cbr\\u003eSimilarity: 0.075\",\"Python Developer\"],[\"Category: Python Developer\\u003cbr\\u003eSimilarity: 0.102\",\"Python Developer\"],[\"Category: Python Developer\\u003cbr\\u003eSimilarity: 0.030\",\"Python Developer\"],[\"Category: Python Developer\\u003cbr\\u003eSimilarity: 0.124\",\"Python Developer\"]],\"hovertemplate\":\"size=%{marker.size}\\u003cbr\\u003ehover_text=%{customdata[0]}\\u003cextra\\u003e\\u003c\\u002fextra\\u003e\",\"legendgroup\":\"Python Developer\",\"marker\":{\"color\":\"#636efa\",\"opacity\":0.7,\"size\":{\"dtype\":\"f8\",\"bdata\":\"xJ1olySgHEDPjDMp+hAZQM\\u002ffIEkIAxpAfNB1Tv8yHECXHvK59GsWQHOpZAfi8x1A\"},\"sizemode\":\"area\",\"sizeref\":0.026921717005445434,\"symbol\":\"circle\"},\"mode\":\"markers\",\"name\":\"Python Developer\",\"orientation\":\"v\",\"showlegend\":true,\"x\":{\"dtype\":\"f4\",\"bdata\":\"bZM6QCzDiUAMFEhANCT+P0n3WkBmBPA\\u002f\"},\"xaxis\":\"x\",\"y\":{\"dtype\":\"f4\",\"bdata\":\"zm57wP1aJMCnhBTA5hiRwGbFs789VoHA\"},\"yaxis\":\"y\",\"type\":\"scatter\"},{\"customdata\":[[\"Category: SAP Developer\\u003cbr\\u003eSimilarity: 0.051\",\"SAP Developer\"],[\"Category: SAP Developer\\u003cbr\\u003eSimilarity: 0.030\",\"SAP Developer\"],[\"Category: SAP Developer\\u003cbr\\u003eSimilarity: 0.021\",\"SAP Developer\"],[\"Category: SAP Developer\\u003cbr\\u003eSimilarity: 0.026\",\"SAP Developer\"],[\"Category: SAP Developer\\u003cbr\\u003eSimilarity: 0.031\",\"SAP Developer\"],[\"Category: SAP Developer\\u003cbr\\u003eSimilarity: 0.025\",\"SAP Developer\"]],\"hovertemplate\":\"size=%{marker.size}\\u003cbr\\u003ehover_text=%{customdata[0]}\\u003cextra\\u003e\\u003c\\u002fextra\\u003e\",\"legendgroup\":\"SAP Developer\",\"marker\":{\"color\":\"#EF553B\",\"opacity\":0.7,\"size\":{\"dtype\":\"f8\",\"bdata\":\"VV\\u002ftbVcTGEAfY9ZW9WoWQH\\u002fK+\\u002fPGrBVA+FB3Gt0QFkAInddSmH8WQNg5rGygBxZA\"},\"sizemode\":\"area\",\"sizeref\":0.026921717005445434,\"symbol\":\"circle\"},\"mode\":\"markers\",\"name\":\"SAP Developer\",\"orientation\":\"v\",\"showlegend\":true,\"x\":{\"dtype\":\"f4\",\"bdata\":\"B6MdQfwvIEEmKCpB75D7QFejBkFYPgxB\"},\"xaxis\":\"x\",\"y\":{\"dtype\":\"f4\",\"bdata\":\"fOGNQDcv5UBF3vRAlFPWQDi3tkBUcL9A\"},\"yaxis\":\"y\",\"type\":\"scatter\"},{\"customdata\":[[\"Category: Sales\\u003cbr\\u003eSimilarity: 0.006\",\"Sales\"],[\"Category: Sales\\u003cbr\\u003eSimilarity: 0.000\",\"Sales\"],[\"Category: Sales\\u003cbr\\u003eSimilarity: 0.004\",\"Sales\"],[\"Category: Sales\\u003cbr\\u003eSimilarity: 0.009\",\"Sales\"],[\"Category: Sales\\u003cbr\\u003eSimilarity: 0.000\",\"Sales\"]],\"hovertemplate\":\"size=%{marker.size}\\u003cbr\\u003ehover_text=%{customdata[0]}\\u003cextra\\u003e\\u003c\\u002fextra\\u003e\",\"legendgroup\":\"Sales\",\"marker\":{\"color\":\"#00cc96\",\"opacity\":0.7,\"size\":{\"dtype\":\"f8\",\"bdata\":\"pqKEvjp6FEAAAAAAAAAUQJUmuVOoWRRAfg5ujlizFEAAAAAAAAAUQA==\"},\"sizemode\":\"area\",\"sizeref\":0.026921717005445434,\"symbol\":\"circle\"},\"mode\":\"markers\",\"name\":\"Sales\",\"orientation\":\"v\",\"showlegend\":true,\"x\":{\"dtype\":\"f4\",\"bdata\":\"G8ZKvzh2EMFeJA\\u002fBqrQMwbu2A8E=\"},\"xaxis\":\"x\",\"y\":{\"dtype\":\"f4\",\"bdata\":\"ltsWwSg8HkB3UiBAlUG6P6HfM0A=\"},\"yaxis\":\"y\",\"type\":\"scatter\"},{\"customdata\":[[\"Category: Testing\\u003cbr\\u003eSimilarity: 0.000\",\"Testing\"],[\"Category: Testing\\u003cbr\\u003eSimilarity: 0.004\",\"Testing\"],[\"Category: Testing\\u003cbr\\u003eSimilarity: 0.000\",\"Testing\"],[\"Category: Testing\\u003cbr\\u003eSimilarity: 0.000\",\"Testing\"],[\"Category: Testing\\u003cbr\\u003eSimilarity: 0.006\",\"Testing\"],[\"Category: Testing\\u003cbr\\u003eSimilarity: 0.016\",\"Testing\"],[\"Category: Testing\\u003cbr\\u003eSimilarity: 0.033\",\"Testing\"]],\"hovertemplate\":\"size=%{marker.size}\\u003cbr\\u003ehover_text=%{customdata[0]}\\u003cextra\\u003e\\u003c\\u002fextra\\u003e\",\"legendgroup\":\"Testing\",\"marker\":{\"color\":\"#ab63fa\",\"opacity\":0.7,\"size\":{\"dtype\":\"f8\",\"bdata\":\"AAAAAAAAFED5S3KZlksUQAAAAAAAABRAAAAAAAAAFED13TcwI4EUQLOwsRBdRxVAG19Nuk+sFkA=\"},\"sizemode\":\"area\",\"sizeref\":0.026921717005445434,\"symbol\":\"circle\"},\"mode\":\"markers\",\"name\":\"Testing\",\"orientation\":\"v\",\"showlegend\":true,\"x\":{\"dtype\":\"f4\",\"bdata\":\"WwTHvagzlcCexd3Ac4OgwPSb0cAA1Kw+P36GwA==\"},\"xaxis\":\"x\",\"y\":{\"dtype\":\"f4\",\"bdata\":\"uSj7Ppg2w7\\u002f6MzNBBXE4QZsUNkG8Hpi\\u002fGRbevg==\"},\"yaxis\":\"y\",\"type\":\"scatter\"},{\"customdata\":[[\"Category: Web Designing\\u003cbr\\u003eSimilarity: 0.035\",\"Web Designing\"],[\"Category: Web Designing\\u003cbr\\u003eSimilarity: 0.106\",\"Web Designing\"],[\"Category: Web Designing\\u003cbr\\u003eSimilarity: 0.044\",\"Web Designing\"],[\"Category: Web Designing\\u003cbr\\u003eSimilarity: 0.079\",\"Web Designing\"]],\"hovertemplate\":\"size=%{marker.size}\\u003cbr\\u003ehover_text=%{customdata[0]}\\u003cextra\\u003e\\u003c\\u002fextra\\u003e\",\"legendgroup\":\"Web Designing\",\"marker\":{\"color\":\"#FFA15A\",\"opacity\":0.7,\"size\":{\"dtype\":\"f8\",\"bdata\":\"AjCQ+VTHFkDZ526fI3IcQLU539czjRdAaIt3pu5QGkA=\"},\"sizemode\":\"area\",\"sizeref\":0.026921717005445434,\"symbol\":\"circle\"},\"mode\":\"markers\",\"name\":\"Web Designing\",\"orientation\":\"v\",\"showlegend\":true,\"x\":{\"dtype\":\"f4\",\"bdata\":\"pC\\u002fiwJZLhMCutvM\\u002fZt\\u002fXwA==\"},\"xaxis\":\"x\",\"y\":{\"dtype\":\"f4\",\"bdata\":\"8ftJwKmj\\u002f8DL7x1AIiRUwA==\"},\"yaxis\":\"y\",\"type\":\"scatter\"},{\"hoverinfo\":\"text\",\"hovertext\":\"Your Input CV\",\"marker\":{\"color\":\"black\",\"line\":{\"color\":\"white\",\"width\":2},\"size\":20,\"symbol\":\"star\"},\"mode\":\"markers+text\",\"name\":\"Input CV\",\"text\":\"Your CV\",\"textposition\":\"middle center\",\"x\":[5.726515293121338],\"y\":[-6.390872478485107],\"type\":\"scatter\"}],                        {\"height\":700,\"hovermode\":\"closest\",\"legend\":{\"itemsizing\":\"constant\",\"orientation\":\"h\",\"title\":{\"text\":\"category\"},\"tracegroupgap\":0,\"x\":1,\"xanchor\":\"right\",\"y\":1.02,\"yanchor\":\"bottom\"},\"showlegend\":true,\"template\":{\"data\":{\"barpolar\":[{\"marker\":{\"line\":{\"color\":\"#E5ECF6\",\"width\":0.5},\"pattern\":{\"fillmode\":\"overlay\",\"size\":10,\"solidity\":0.2}},\"type\":\"barpolar\"}],\"bar\":[{\"error_x\":{\"color\":\"#2a3f5f\"},\"error_y\":{\"color\":\"#2a3f5f\"},\"marker\":{\"line\":{\"color\":\"#E5ECF6\",\"width\":0.5},\"pattern\":{\"fillmode\":\"overlay\",\"size\":10,\"solidity\":0.2}},\"type\":\"bar\"}],\"carpet\":[{\"aaxis\":{\"endlinecolor\":\"#2a3f5f\",\"gridcolor\":\"white\",\"linecolor\":\"white\",\"minorgridcolor\":\"white\",\"startlinecolor\":\"#2a3f5f\"},\"baxis\":{\"endlinecolor\":\"#2a3f5f\",\"gridcolor\":\"white\",\"linecolor\":\"white\",\"minorgridcolor\":\"white\",\"startlinecolor\":\"#2a3f5f\"},\"type\":\"carpet\"}],\"choropleth\":[{\"colorbar\":{\"outlinewidth\":0,\"ticks\":\"\"},\"type\":\"choropleth\"}],\"contourcarpet\":[{\"colorbar\":{\"outlinewidth\":0,\"ticks\":\"\"},\"type\":\"contourcarpet\"}],\"contour\":[{\"colorbar\":{\"outlinewidth\":0,\"ticks\":\"\"},\"colorscale\":[[0.0,\"#0d0887\"],[0.1111111111111111,\"#46039f\"],[0.2222222222222222,\"#7201a8\"],[0.3333333333333333,\"#9c179e\"],[0.4444444444444444,\"#bd3786\"],[0.5555555555555556,\"#d8576b\"],[0.6666666666666666,\"#ed7953\"],[0.7777777777777778,\"#fb9f3a\"],[0.8888888888888888,\"#fdca26\"],[1.0,\"#f0f921\"]],\"type\":\"contour\"}],\"heatmap\":[{\"colorbar\":{\"outlinewidth\":0,\"ticks\":\"\"},\"colorscale\":[[0.0,\"#0d0887\"],[0.1111111111111111,\"#46039f\"],[0.2222222222222222,\"#7201a8\"],[0.3333333333333333,\"#9c179e\"],[0.4444444444444444,\"#bd3786\"],[0.5555555555555556,\"#d8576b\"],[0.6666666666666666,\"#ed7953\"],[0.7777777777777778,\"#fb9f3a\"],[0.8888888888888888,\"#fdca26\"],[1.0,\"#f0f921\"]],\"type\":\"heatmap\"}],\"histogram2dcontour\":[{\"colorbar\":{\"outlinewidth\":0,\"ticks\":\"\"},\"colorscale\":[[0.0,\"#0d0887\"],[0.1111111111111111,\"#46039f\"],[0.2222222222222222,\"#7201a8\"],[0.3333333333333333,\"#9c179e\"],[0.4444444444444444,\"#bd3786\"],[0.5555555555555556,\"#d8576b\"],[0.6666666666666666,\"#ed7953\"],[0.7777777777777778,\"#fb9f3a\"],[0.8888888888888888,\"#fdca26\"],[1.0,\"#f0f921\"]],\"type\":\"histogram2dcontour\"}],\"histogram2d\":[{\"colorbar\":{\"outlinewidth\":0,\"ticks\":\"\"},\"colorscale\":[[0.0,\"#0d0887\"],[0.1111111111111111,\"#46039f\"],[0.2222222222222222,\"#7201a8\"],[0.3333333333333333,\"#9c179e\"],[0.4444444444444444,\"#bd3786\"],[0.5555555555555556,\"#d8576b\"],[0.6666666666666666,\"#ed7953\"],[0.7777777777777778,\"#fb9f3a\"],[0.8888888888888888,\"#fdca26\"],[1.0,\"#f0f921\"]],\"type\":\"histogram2d\"}],\"histogram\":[{\"marker\":{\"pattern\":{\"fillmode\":\"overlay\",\"size\":10,\"solidity\":0.2}},\"type\":\"histogram\"}],\"mesh3d\":[{\"colorbar\":{\"outlinewidth\":0,\"ticks\":\"\"},\"type\":\"mesh3d\"}],\"parcoords\":[{\"line\":{\"colorbar\":{\"outlinewidth\":0,\"ticks\":\"\"}},\"type\":\"parcoords\"}],\"pie\":[{\"automargin\":true,\"type\":\"pie\"}],\"scatter3d\":[{\"line\":{\"colorbar\":{\"outlinewidth\":0,\"ticks\":\"\"}},\"marker\":{\"colorbar\":{\"outlinewidth\":0,\"ticks\":\"\"}},\"type\":\"scatter3d\"}],\"scattercarpet\":[{\"marker\":{\"colorbar\":{\"outlinewidth\":0,\"ticks\":\"\"}},\"type\":\"scattercarpet\"}],\"scattergeo\":[{\"marker\":{\"colorbar\":{\"outlinewidth\":0,\"ticks\":\"\"}},\"type\":\"scattergeo\"}],\"scattergl\":[{\"marker\":{\"colorbar\":{\"outlinewidth\":0,\"ticks\":\"\"}},\"type\":\"scattergl\"}],\"scattermapbox\":[{\"marker\":{\"colorbar\":{\"outlinewidth\":0,\"ticks\":\"\"}},\"type\":\"scattermapbox\"}],\"scattermap\":[{\"marker\":{\"colorbar\":{\"outlinewidth\":0,\"ticks\":\"\"}},\"type\":\"scattermap\"}],\"scatterpolargl\":[{\"marker\":{\"colorbar\":{\"outlinewidth\":0,\"ticks\":\"\"}},\"type\":\"scatterpolargl\"}],\"scatterpolar\":[{\"marker\":{\"colorbar\":{\"outlinewidth\":0,\"ticks\":\"\"}},\"type\":\"scatterpolar\"}],\"scatter\":[{\"fillpattern\":{\"fillmode\":\"overlay\",\"size\":10,\"solidity\":0.2},\"type\":\"scatter\"}],\"scatterternary\":[{\"marker\":{\"colorbar\":{\"outlinewidth\":0,\"ticks\":\"\"}},\"type\":\"scatterternary\"}],\"surface\":[{\"colorbar\":{\"outlinewidth\":0,\"ticks\":\"\"},\"colorscale\":[[0.0,\"#0d0887\"],[0.1111111111111111,\"#46039f\"],[0.2222222222222222,\"#7201a8\"],[0.3333333333333333,\"#9c179e\"],[0.4444444444444444,\"#bd3786\"],[0.5555555555555556,\"#d8576b\"],[0.6666666666666666,\"#ed7953\"],[0.7777777777777778,\"#fb9f3a\"],[0.8888888888888888,\"#fdca26\"],[1.0,\"#f0f921\"]],\"type\":\"surface\"}],\"table\":[{\"cells\":{\"fill\":{\"color\":\"#EBF0F8\"},\"line\":{\"color\":\"white\"}},\"header\":{\"fill\":{\"color\":\"#C8D4E3\"},\"line\":{\"color\":\"white\"}},\"type\":\"table\"}]},\"layout\":{\"annotationdefaults\":{\"arrowcolor\":\"#2a3f5f\",\"arrowhead\":0,\"arrowwidth\":1},\"autotypenumbers\":\"strict\",\"coloraxis\":{\"colorbar\":{\"outlinewidth\":0,\"ticks\":\"\"}},\"colorscale\":{\"diverging\":[[0,\"#8e0152\"],[0.1,\"#c51b7d\"],[0.2,\"#de77ae\"],[0.3,\"#f1b6da\"],[0.4,\"#fde0ef\"],[0.5,\"#f7f7f7\"],[0.6,\"#e6f5d0\"],[0.7,\"#b8e186\"],[0.8,\"#7fbc41\"],[0.9,\"#4d9221\"],[1,\"#276419\"]],\"sequential\":[[0.0,\"#0d0887\"],[0.1111111111111111,\"#46039f\"],[0.2222222222222222,\"#7201a8\"],[0.3333333333333333,\"#9c179e\"],[0.4444444444444444,\"#bd3786\"],[0.5555555555555556,\"#d8576b\"],[0.6666666666666666,\"#ed7953\"],[0.7777777777777778,\"#fb9f3a\"],[0.8888888888888888,\"#fdca26\"],[1.0,\"#f0f921\"]],\"sequentialminus\":[[0.0,\"#0d0887\"],[0.1111111111111111,\"#46039f\"],[0.2222222222222222,\"#7201a8\"],[0.3333333333333333,\"#9c179e\"],[0.4444444444444444,\"#bd3786\"],[0.5555555555555556,\"#d8576b\"],[0.6666666666666666,\"#ed7953\"],[0.7777777777777778,\"#fb9f3a\"],[0.8888888888888888,\"#fdca26\"],[1.0,\"#f0f921\"]]},\"colorway\":[\"#636efa\",\"#EF553B\",\"#00cc96\",\"#ab63fa\",\"#FFA15A\",\"#19d3f3\",\"#FF6692\",\"#B6E880\",\"#FF97FF\",\"#FECB52\"],\"font\":{\"color\":\"#2a3f5f\"},\"geo\":{\"bgcolor\":\"white\",\"lakecolor\":\"white\",\"landcolor\":\"#E5ECF6\",\"showlakes\":true,\"showland\":true,\"subunitcolor\":\"white\"},\"hoverlabel\":{\"align\":\"left\"},\"hovermode\":\"closest\",\"mapbox\":{\"style\":\"light\"},\"paper_bgcolor\":\"white\",\"plot_bgcolor\":\"#E5ECF6\",\"polar\":{\"angularaxis\":{\"gridcolor\":\"white\",\"linecolor\":\"white\",\"ticks\":\"\"},\"bgcolor\":\"#E5ECF6\",\"radialaxis\":{\"gridcolor\":\"white\",\"linecolor\":\"white\",\"ticks\":\"\"}},\"scene\":{\"xaxis\":{\"backgroundcolor\":\"#E5ECF6\",\"gridcolor\":\"white\",\"gridwidth\":2,\"linecolor\":\"white\",\"showbackground\":true,\"ticks\":\"\",\"zerolinecolor\":\"white\"},\"yaxis\":{\"backgroundcolor\":\"#E5ECF6\",\"gridcolor\":\"white\",\"gridwidth\":2,\"linecolor\":\"white\",\"showbackground\":true,\"ticks\":\"\",\"zerolinecolor\":\"white\"},\"zaxis\":{\"backgroundcolor\":\"#E5ECF6\",\"gridcolor\":\"white\",\"gridwidth\":2,\"linecolor\":\"white\",\"showbackground\":true,\"ticks\":\"\",\"zerolinecolor\":\"white\"}},\"shapedefaults\":{\"line\":{\"color\":\"#2a3f5f\"}},\"ternary\":{\"aaxis\":{\"gridcolor\":\"white\",\"linecolor\":\"white\",\"ticks\":\"\"},\"baxis\":{\"gridcolor\":\"white\",\"linecolor\":\"white\",\"ticks\":\"\"},\"bgcolor\":\"#E5ECF6\",\"caxis\":{\"gridcolor\":\"white\",\"linecolor\":\"white\",\"ticks\":\"\"}},\"title\":{\"x\":0.05},\"xaxis\":{\"automargin\":true,\"gridcolor\":\"white\",\"linecolor\":\"white\",\"ticks\":\"\",\"title\":{\"standoff\":15},\"zerolinecolor\":\"white\",\"zerolinewidth\":2},\"yaxis\":{\"automargin\":true,\"gridcolor\":\"white\",\"linecolor\":\"white\",\"ticks\":\"\",\"title\":{\"standoff\":15},\"zerolinecolor\":\"white\",\"zerolinewidth\":2}}},\"title\":{\"text\":\"Input CV Position in Trained CV Space\"},\"width\":900,\"xaxis\":{\"anchor\":\"y\",\"domain\":[0.0,1.0],\"title\":{\"text\":\"t-SNE Dimension 1\"}},\"yaxis\":{\"anchor\":\"x\",\"domain\":[0.0,1.0],\"title\":{\"text\":\"t-SNE Dimension 2\"}}},                        {\"responsive\": true}                    ).then(function(){\n",
       "                            \n",
       "var gd = document.getElementById('10143eb4-27de-4c42-ba3a-7e4b6464efab');\n",
       "var x = new MutationObserver(function (mutations, observer) {{\n",
       "        var display = window.getComputedStyle(gd).display;\n",
       "        if (!display || display === 'none') {{\n",
       "            console.log([gd, 'removed!']);\n",
       "            Plotly.purge(gd);\n",
       "            observer.disconnect();\n",
       "        }}\n",
       "}});\n",
       "\n",
       "// Listen for the removal of the full notebook cells\n",
       "var notebookContainer = gd.closest('#notebook-container');\n",
       "if (notebookContainer) {{\n",
       "    x.observe(notebookContainer, {childList: true});\n",
       "}}\n",
       "\n",
       "// Listen for the clearing of the current output cell\n",
       "var outputEl = gd.closest('.output');\n",
       "if (outputEl) {{\n",
       "    x.observe(outputEl, {childList: true});\n",
       "}}\n",
       "\n",
       "                        })                };            </script>        </div>"
      ]
     },
     "metadata": {},
     "output_type": "display_data"
    }
   ],
   "source": [
    "fig = visualize_cv_in_trained_space(\n",
    "    similarities=similariries,\n",
    "    documents=documents,\n",
    "    categories=categories,\n",
    "    input_cv_text=text_cv,\n",
    "    vectorizer=vectorizer  # Pass your already fitted vectorizer\n",
    ")"
   ]
  },
  {
   "cell_type": "code",
   "execution_count": null,
   "id": "17928566",
   "metadata": {},
   "outputs": [],
   "source": [
    "results = enhanced_find_top_categories(text_cv, json_file, top_n=5)"
   ]
  },
  {
   "cell_type": "code",
   "execution_count": 8,
   "id": "cbe5d755",
   "metadata": {},
   "outputs": [
    {
     "name": "stdout",
     "output_type": "stream",
     "text": [
      "1. Data Science: 31.49%\n",
      "2. Python Developer: 18.22%\n",
      "3. Web Designing: 12.16%\n",
      "4. Blockchain: 8.81%\n",
      "5. DevOps Engineer: 8.61%\n"
     ]
    }
   ],
   "source": [
    "print_formatted_results(results)\n",
    "target_job,_ =  results[0]"
   ]
  },
  {
   "cell_type": "code",
   "execution_count": null,
   "id": "de13a052",
   "metadata": {},
   "outputs": [
    {
     "name": "stdout",
     "output_type": "stream",
     "text": [
      "Top missing keywords:\n",
      "data science: importance=0.2271\n",
      "science: importance=0.1672\n",
      "analytics: importance=0.1657\n",
      "exprience year: importance=0.1531\n",
      "month: importance=0.1483\n",
      "year month: importance=0.1364\n",
      "year: importance=0.1353\n",
      "exprience: importance=0.1337\n",
      "deep: importance=0.1263\n",
      "sap: importance=0.1039\n",
      "=== CV Gap Analysis for 'Data Science' ===\n",
      "\n",
      "📊 Top keywords in your CV:\n",
      "   python machine: 0.3491\n",
      "   background: 0.3291\n",
      "   data analysis: 0.3291\n",
      "   software developer: 0.3136\n",
      "   experienced: 0.2809\n",
      "   text: 0.2588\n",
      "   cloud: 0.2527\n",
      "   machine learning: 0.2372\n",
      "   strong: 0.2327\n",
      "   machine: 0.2075\n",
      "\n",
      "🎯 Top keywords expected for 'Data Science':\n",
      "   data: 0.3043\n",
      "   learning: 0.2421\n",
      "   data science: 0.2271\n",
      "   machine learning: 0.2065\n",
      "   python: 0.2011\n",
      "   machine: 0.2007\n",
      "   science: 0.1672\n",
      "   analytics: 0.1657\n",
      "   exprience year: 0.1531\n",
      "   month: 0.1483\n",
      "   year month: 0.1364\n",
      "   year: 0.1353\n",
      "   exprience: 0.1337\n",
      "   deep: 0.1263\n",
      "   sap: 0.1039\n",
      "\n",
      "🔍 Missing/weak keywords for 'Data Science':\n",
      "   1. data science\n",
      "      Importance: 0.2271 (Target: 0.2271, Your CV: 0.0000)\n",
      "   2. science\n",
      "      Importance: 0.1672 (Target: 0.1672, Your CV: 0.0000)\n",
      "   3. analytics\n",
      "      Importance: 0.1657 (Target: 0.1657, Your CV: 0.0000)\n",
      "   4. exprience year\n",
      "      Importance: 0.1531 (Target: 0.1531, Your CV: 0.0000)\n",
      "   5. month\n",
      "      Importance: 0.1483 (Target: 0.1483, Your CV: 0.0000)\n",
      "   6. year month\n",
      "      Importance: 0.1364 (Target: 0.1364, Your CV: 0.0000)\n",
      "   7. year\n",
      "      Importance: 0.1353 (Target: 0.1353, Your CV: 0.0000)\n",
      "   8. exprience\n",
      "      Importance: 0.1337 (Target: 0.1337, Your CV: 0.0000)\n",
      "   9. deep\n",
      "      Importance: 0.1263 (Target: 0.1263, Your CV: 0.0000)\n",
      "   10. sap\n",
      "      Importance: 0.1039 (Target: 0.1039, Your CV: 0.0000)\n",
      "To better match 'Data Science', consider adding:\n",
      "• Soft skills: data science, science, analytics\n",
      "\n",
      "💡 Tips:\n",
      "- Add specific projects using these technologies\n",
      "- Include metrics and results achieved\n",
      "- Consider getting certifications in missing areas\n",
      "- Tailor your experience descriptions to highlight relevant skills\n"
     ]
    }
   ],
   "source": [
    "missing_keywords = find_missing_keywords(\n",
    "    input_cv_text=text_cv,\n",
    "    target_category=target_job,\n",
    "    category_data=category_resumes,\n",
    "    vectorizer=vectorizer,\n",
    "    top_n=10\n",
    ")\n",
    "\n",
    "print(\"Top missing keywords:\")\n",
    "for keyword, importance, target_score, input_score in missing_keywords:\n",
    "    print(f\"{keyword}: importance={importance:.4f}\")\n",
    "\n",
    "analyze_cv_gaps(text_cv, target_job, category_resumes, vectorizer)\n",
    "\n",
    "suggestions = suggest_improvements(text_cv, target_job, category_resumes, vectorizer)\n",
    "for suggestion in suggestions:\n",
    "    print(suggestion)"
   ]
  }
 ],
 "metadata": {
  "kernelspec": {
   "display_name": "cv_env",
   "language": "python",
   "name": "python3"
  },
  "language_info": {
   "codemirror_mode": {
    "name": "ipython",
    "version": 3
   },
   "file_extension": ".py",
   "mimetype": "text/x-python",
   "name": "python",
   "nbconvert_exporter": "python",
   "pygments_lexer": "ipython3",
   "version": "3.12.3"
  }
 },
 "nbformat": 4,
 "nbformat_minor": 5
}
